{
 "cells": [
  {
   "cell_type": "code",
   "execution_count": 1,
   "metadata": {
    "collapsed": true
   },
   "outputs": [],
   "source": [
    "class Human:\n",
    "    def __init__(self,name):\n",
    "        self.name = name\n",
    "        \n",
    "    def get_name(self):\n",
    "        return self.name"
   ]
  },
  {
   "cell_type": "code",
   "execution_count": 2,
   "metadata": {
    "collapsed": true
   },
   "outputs": [],
   "source": [
    "class Child(Human):\n",
    "    def get_name(self):\n",
    "        return self.name"
   ]
  },
  {
   "cell_type": "code",
   "execution_count": 4,
   "metadata": {
    "collapsed": false
   },
   "outputs": [],
   "source": [
    "c = Child(\"alice\")"
   ]
  },
  {
   "cell_type": "code",
   "execution_count": 5,
   "metadata": {
    "collapsed": false
   },
   "outputs": [
    {
     "data": {
      "text/plain": [
       "'alice'"
      ]
     },
     "execution_count": 5,
     "metadata": {},
     "output_type": "execute_result"
    }
   ],
   "source": [
    "c.get_name()"
   ]
  },
  {
   "cell_type": "code",
   "execution_count": 9,
   "metadata": {
    "collapsed": false
   },
   "outputs": [
    {
     "name": "stdout",
     "output_type": "stream",
     "text": [
      "숫자를 입력하세요 ㄴㅁㅇㄹ\n",
      "숫자가 아닙니다.\n"
     ]
    }
   ],
   "source": [
    "try:\n",
    "    num = int(input(\"숫자를 입력하세요 \"))\n",
    "except ValueError:\n",
    "    print(\"숫자가 아닙니다.\")"
   ]
  },
  {
   "cell_type": "code",
   "execution_count": 17,
   "metadata": {
    "collapsed": true
   },
   "outputs": [],
   "source": [
    "def input_num():\n",
    "    while True:\n",
    "        try:\n",
    "            return int(input(\"숫자를 입력하세요\"))\n",
    "        except ValueError:\n",
    "            print(\"숫자가 아닙니다.\")\n"
   ]
  },
  {
   "cell_type": "code",
   "execution_count": 19,
   "metadata": {
    "collapsed": false
   },
   "outputs": [
    {
     "name": "stdout",
     "output_type": "stream",
     "text": [
      "숫자를 입력하세요df\n",
      "숫자가 아닙니다.\n",
      "숫자를 입력하세요df\n",
      "숫자가 아닙니다.\n",
      "숫자를 입력하세요34\n",
      "34\n"
     ]
    }
   ],
   "source": [
    "num = input_num()\n",
    "print(num)"
   ]
  },
  {
   "cell_type": "code",
   "execution_count": 20,
   "metadata": {
    "collapsed": true
   },
   "outputs": [],
   "source": [
    "def input_ex():\n",
    "    n = 0\n",
    "    while True:\n",
    "        try:\n",
    "            n = int(input(\"숫자를 꼭 입력 하세요\"))\n",
    "            break\n",
    "        except ValueError:\n",
    "            print(\"숫자가 아닙니다.\")\n",
    "    \n",
    "    print(\"숫자를 입력 하셨군요 : %s\" % n)\n",
    "        "
   ]
  },
  {
   "cell_type": "code",
   "execution_count": 23,
   "metadata": {
    "collapsed": false
   },
   "outputs": [
    {
     "name": "stdout",
     "output_type": "stream",
     "text": [
      "숫자를 꼭 입력 하세요as\n",
      "숫자가 아닙니다.\n",
      "숫자를 꼭 입력 하세요as\n",
      "숫자가 아닙니다.\n",
      "숫자를 꼭 입력 하세요s\n",
      "숫자가 아닙니다.\n",
      "숫자를 꼭 입력 하세요23423423\n",
      "숫자를 입력 하셨군요 : 23423423\n"
     ]
    }
   ],
   "source": [
    "input_ex()"
   ]
  },
  {
   "cell_type": "code",
   "execution_count": 50,
   "metadata": {
    "collapsed": true
   },
   "outputs": [],
   "source": [
    "def input_string():\n",
    "    while True:\n",
    "        try:\n",
    "            str = input(\"입력 해 주세요 [ex) 4 5] \")\n",
    "            n = str.split(\" \")\n",
    "            n1 = int(n[0])\n",
    "            n2 = int(n[1])\n",
    "            print(n1 / n2)\n",
    "            break\n",
    "        except ValueError:\n",
    "            print(\"숫자를 입력 해 주세요\", str)\n",
    "        except ZeroDivisionError:\n",
    "            print(\"0으로는 나눌수 없습니다.\")\n",
    "        finally:\n",
    "            print(\"finally~~\")\n"
   ]
  },
  {
   "cell_type": "code",
   "execution_count": 49,
   "metadata": {
    "collapsed": false
   },
   "outputs": [
    {
     "name": "stdout",
     "output_type": "stream",
     "text": [
      "입력 해 주세요 [ex) 4 5] 5 0\n",
      "0으로는 나눌수 없습니다.\n",
      "finally~~\n",
      "입력 해 주세요 [ex) 4 5] 9 g\n",
      "숫자를 입력 해 주세요 9 g\n",
      "finally~~\n",
      "입력 해 주세요 [ex) 4 5] g g\n",
      "숫자를 입력 해 주세요 g g\n",
      "finally~~\n",
      "입력 해 주세요 [ex) 4 5] 8 7\n",
      "1.1428571428571428\n",
      "finally~~\n"
     ]
    }
   ],
   "source": [
    "input_string()"
   ]
  },
  {
   "cell_type": "code",
   "execution_count": 44,
   "metadata": {
    "collapsed": false
   },
   "outputs": [],
   "source": [
    "def input_test():\n",
    "    try:\n",
    "        num = int(input(\"숫자를 입력 하세요\"))\n",
    "    except ValueError:\n",
    "        print(\"숫자가 아닙니다.\")\n",
    "    else:\n",
    "        print(num)\n",
    "    finally:\n",
    "        print(\"finally는 무조건 실행됩니다.!\")\n"
   ]
  },
  {
   "cell_type": "code",
   "execution_count": 46,
   "metadata": {
    "collapsed": false
   },
   "outputs": [
    {
     "name": "stdout",
     "output_type": "stream",
     "text": [
      "숫자를 입력 하세요f\n",
      "숫자가 아닙니다.\n",
      "finally는 무조건 실행됩니다.!\n"
     ]
    }
   ],
   "source": [
    "input_test()"
   ]
  },
  {
   "cell_type": "code",
   "execution_count": null,
   "metadata": {
    "collapsed": true
   },
   "outputs": [],
   "source": []
  },
  {
   "cell_type": "code",
   "execution_count": null,
   "metadata": {
    "collapsed": true
   },
   "outputs": [],
   "source": []
  }
 ],
 "metadata": {
  "kernelspec": {
   "display_name": "Python [Root]",
   "language": "python",
   "name": "Python [Root]"
  },
  "language_info": {
   "codemirror_mode": {
    "name": "ipython",
    "version": 3
   },
   "file_extension": ".py",
   "mimetype": "text/x-python",
   "name": "python",
   "nbconvert_exporter": "python",
   "pygments_lexer": "ipython3",
   "version": "3.5.2"
  }
 },
 "nbformat": 4,
 "nbformat_minor": 0
}

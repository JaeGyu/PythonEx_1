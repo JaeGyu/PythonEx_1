{
 "cells": [
  {
   "cell_type": "code",
   "execution_count": 1,
   "metadata": {
    "collapsed": false
   },
   "outputs": [
    {
     "name": "stdout",
     "output_type": "stream",
     "text": [
      "1.2.0\n"
     ]
    }
   ],
   "source": [
    "import tensorflow as tf\n",
    "print(tf.__version__)"
   ]
  },
  {
   "cell_type": "code",
   "execution_count": 2,
   "metadata": {
    "collapsed": true
   },
   "outputs": [],
   "source": [
    "input_data = [[1,5,3,7,8,10,12],\n",
    "              [5,8,10,3,9,7,1]]\n",
    "\n",
    "label_data = [[0,0,0,1,0],\n",
    "              [1,0,0,0,0]]\n",
    "\n",
    "INPUT_SIZE = 7\n",
    "HIDDEN1_SIZE = 10\n",
    "HIDDEN2_SIZE = 8\n",
    "CLASSES = 5\n",
    "\n",
    "LEARNING_RATE = 0.01"
   ]
  },
  {
   "cell_type": "code",
   "execution_count": 3,
   "metadata": {
    "collapsed": true
   },
   "outputs": [],
   "source": [
    "\"\"\"\n",
    "shape를 정해줄 때에서 법칙이 있는데 첫번째 디멘전이 있고, 두법째 디멘전이 있고, 세번째 디멘전이있고... 등등 쭉 나가는데\n",
    "첫번째 디멘전은 무조건 배치가 들어간다 즉 입력되는 데이터가 몇개인가? 배치사이즈 \n",
    "보통 배치에 개수는 알수 없는 경우가 일반적이다 즉 데이터가 몇개가 정확히 들어올지 모른다. 그래서 1차원 자리는 None로 보통 한다. \n",
    "\"\"\"\n",
    "\n",
    "x = tf.placeholder(tf.float32, shape=[None, INPUT_SIZE], name='x') # 보통 직접 숫자를 써주는 것이 아니라 상수를 이용한다. \n",
    "y_ = tf.placeholder(tf.float32, shape=[None, CLASSES], name='y_')"
   ]
  },
  {
   "cell_type": "code",
   "execution_count": 4,
   "metadata": {
    "collapsed": true
   },
   "outputs": [],
   "source": [
    "tensor_map = {x: input_data, y_: label_data} #세션의 두번째 파라미터에 입력을 하는데 이것은 세션을 돌릴때 {x:,y_:}텐서는 위의 input_data와 label_data를 써라 라는 소리"
   ]
  },
  {
   "cell_type": "code",
   "execution_count": 5,
   "metadata": {
    "collapsed": true
   },
   "outputs": [],
   "source": [
    "#우리는 예전에 variable를 사용할때 tf.Variable([1,2,3]) 이렇게 값을 직접 지정 했지만 실제 사용할때에는 랜덤값으로 한다. \n",
    "#tf.truncated_normal(shape)를 넣는데 이때 리턴되는 결과가 Variable의 shape로 들어간다. \n",
    "W_h1 = tf.Variable(tf.truncated_normal([INPUT_SIZE, HIDDEN1_SIZE]), dtype=tf.float32,name='W_h1')\n",
    "\n",
    "#bias라는 것도 중요하다 반드시 넣어줘서 high bias현상을 없애 줘야 한다.\n",
    "b_h1 = tf.Variable(tf.zeros(shape=[HIDDEN1_SIZE]), dtype=tf.float32, name='b_h1')\n",
    "\n",
    "W_h2 = tf.Variable(tf.truncated_normal([HIDDEN1_SIZE, HIDDEN2_SIZE]), dtype=tf.float32, name='W_h2')\n",
    "b_h2 = tf.Variable(tf.zeros(shape=[HIDDEN2_SIZE]), dtype=tf.float32, name='b_h2')\n",
    "\n",
    "W_o = tf.Variable(tf.truncated_normal([HIDDEN2_SIZE, CLASSES]), dtype=tf.float32, name='W_o')\n",
    "b_o = tf.Variable(tf.zeros(shape=[CLASSES]), dtype=tf.float32, name='b_o')\n",
    "\n",
    "\n",
    "#세이브를 할경우 Variable가 끝나는 시점에 생성을 해준다. \n",
    "#saver = tf.train.Saver()  #이렇게 해주면 위에 나오는 Variable는 다 저장 된다.\n",
    "\n",
    "param_list = [W_h1, b_h1, W_h2, b_h2, W_o, b_o]\n",
    "saver = tf.train.Saver(param_list)\n",
    "\n"
   ]
  },
  {
   "cell_type": "code",
   "execution_count": 6,
   "metadata": {
    "collapsed": true
   },
   "outputs": [],
   "source": [
    "hidden1 = tf.sigmoid(tf.matmul(x, W_h1) + b_h1, name='hidden1')\n",
    "hidden2 = tf.sigmoid(tf.matmul(hidden1, W_h2) + b_h2 , name='hidden2')\n",
    "y = tf.sigmoid(tf.matmul(hidden2, W_o) + b_o, name='y')"
   ]
  },
  {
   "cell_type": "code",
   "execution_count": 7,
   "metadata": {
    "collapsed": false
   },
   "outputs": [
    {
     "name": "stdout",
     "output_type": "stream",
     "text": [
      "INFO:tensorflow:Restoring parameters from ./hans\n"
     ]
    }
   ],
   "source": [
    "sess = tf.Session()\n",
    "\n",
    "# sess.run(tf.global_variables_initializer()) #딱 이자리에서 restore를 해준다. \n",
    "saver.restore(sess, \"./hans\")"
   ]
  },
  {
   "cell_type": "code",
   "execution_count": 15,
   "metadata": {
    "collapsed": false
   },
   "outputs": [
    {
     "name": "stdout",
     "output_type": "stream",
     "text": [
      "[[ 0.10207721  0.01148828  0.00551529  0.89387095  0.01537305]\n",
      " [ 0.90149009  0.01389805  0.01394992  0.09286129  0.00901838]]\n",
      "--------------------------------------------------------------------------------\n",
      "[[ 0.97754997  0.55621368 -0.44010696 -0.40851125  1.67365742  0.04584041\n",
      "  -0.49842978  0.08423941 -0.66174001  0.39197806]\n",
      " [ 1.28061986  0.82232326  0.18743102  0.44222283  0.35149592 -0.02001804\n",
      "  -1.68211639  0.82240736  0.30921844  0.02495141]\n",
      " [ 0.06555898  0.85553962  0.58220506 -0.55809259 -1.26070142 -1.11869264\n",
      "  -0.15245967 -0.6072554   0.69489497  0.18019332]\n",
      " [ 0.70001388  0.9337604   1.86955929 -0.31405884 -1.80038369 -0.50542086\n",
      "   0.42620143  1.05083084  1.08407152 -0.70436782]\n",
      " [ 0.59139049 -0.45903856  0.51112527 -0.17644282 -0.87902093  0.6172688\n",
      "   0.56149948 -1.52415764 -1.7380538  -0.33054617]\n",
      " [ 0.29311156 -0.74966377  0.41208571  1.69806349  1.20500934 -1.59911454\n",
      "   0.72933996 -0.78889257 -0.10907754 -0.76205885]\n",
      " [-0.01466538 -1.14897799  0.33773398 -0.49387085  1.08618689 -1.88665652\n",
      "   0.29759467  0.2721279   1.58302677  0.48426652]]\n"
     ]
    }
   ],
   "source": [
    "result, w_h1_out = sess.run([y,W_h1], feed_dict=tensor_map)\n",
    "\n",
    "print(result)\n",
    "print(\"-\"*80)\n",
    "print(w_h1_out)"
   ]
  },
  {
   "cell_type": "code",
   "execution_count": null,
   "metadata": {
    "collapsed": true
   },
   "outputs": [],
   "source": []
  }
 ],
 "metadata": {
  "kernelspec": {
   "display_name": "Python [Root]",
   "language": "python",
   "name": "Python [Root]"
  },
  "language_info": {
   "codemirror_mode": {
    "name": "ipython",
    "version": 3
   },
   "file_extension": ".py",
   "mimetype": "text/x-python",
   "name": "python",
   "nbconvert_exporter": "python",
   "pygments_lexer": "ipython3",
   "version": "3.5.2"
  }
 },
 "nbformat": 4,
 "nbformat_minor": 0
}

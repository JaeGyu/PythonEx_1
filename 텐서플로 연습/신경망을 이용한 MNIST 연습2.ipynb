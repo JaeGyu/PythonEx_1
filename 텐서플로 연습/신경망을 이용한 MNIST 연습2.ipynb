{
 "cells": [
  {
   "cell_type": "markdown",
   "metadata": {},
   "source": [
    "#### 학습 할때에는 한번 restart를 해준 후 한다."
   ]
  },
  {
   "cell_type": "code",
   "execution_count": 1,
   "metadata": {
    "collapsed": true
   },
   "outputs": [],
   "source": [
    "import tensorflow as tf\n",
    "import numpy as np\n",
    "import matplotlib.pyplot as plt\n",
    "from PIL import Image\n",
    "%matplotlib inline"
   ]
  },
  {
   "cell_type": "code",
   "execution_count": 2,
   "metadata": {
    "collapsed": true
   },
   "outputs": [],
   "source": [
    "from tensorflow.examples.tutorials.mnist import input_data"
   ]
  },
  {
   "cell_type": "code",
   "execution_count": 3,
   "metadata": {
    "collapsed": false
   },
   "outputs": [
    {
     "name": "stdout",
     "output_type": "stream",
     "text": [
      "Extracting /Users/jaegyuhan/PythonEx_1/mnist_data/train-images-idx3-ubyte.gz\n",
      "Extracting /Users/jaegyuhan/PythonEx_1/mnist_data/train-labels-idx1-ubyte.gz\n",
      "Extracting /Users/jaegyuhan/PythonEx_1/mnist_data/t10k-images-idx3-ubyte.gz\n",
      "Extracting /Users/jaegyuhan/PythonEx_1/mnist_data/t10k-labels-idx1-ubyte.gz\n"
     ]
    }
   ],
   "source": [
    "mnist = input_data.read_data_sets('/Users/jaegyuhan/PythonEx_1/mnist_data', one_hot=True)"
   ]
  },
  {
   "cell_type": "code",
   "execution_count": 4,
   "metadata": {
    "collapsed": true
   },
   "outputs": [],
   "source": [
    "X = tf.placeholder(dtype=tf.float32, shape=[None, 784])\n",
    "Y = tf.placeholder(dtype=tf.float32, shape=[None, 10])"
   ]
  },
  {
   "cell_type": "code",
   "execution_count": 5,
   "metadata": {
    "collapsed": true
   },
   "outputs": [],
   "source": [
    "W1 = tf.Variable(tf.random_normal(shape=[784, 512], stddev=0.01), name=\"w1val\")\n",
    "B1 = tf.Variable(tf.random_normal(shape=[512], stddev=0.01), name=\"b1val\")\n",
    "L1 = tf.nn.relu(tf.add(tf.matmul(X, W1), B1))"
   ]
  },
  {
   "cell_type": "code",
   "execution_count": 6,
   "metadata": {
    "collapsed": true
   },
   "outputs": [],
   "source": [
    "W2 = tf.Variable(tf.random_normal(shape=[512, 256], stddev=0.01), name=\"w2val\")\n",
    "B2 = tf.Variable(tf.random_normal(shape=[256], stddev=0.01), name=\"b2val\")\n",
    "L2 = tf.nn.relu(tf.add(tf.matmul(L1, W2), B2))"
   ]
  },
  {
   "cell_type": "code",
   "execution_count": 7,
   "metadata": {
    "collapsed": true
   },
   "outputs": [],
   "source": [
    "W3 = tf.Variable(tf.random_normal(shape=[256, 128], stddev=0.01), name=\"w3val\")\n",
    "B3 = tf.Variable(tf.random_normal(shape=[128], stddev=0.01), name=\"b3val\")\n",
    "L3 = tf.nn.relu(tf.add(tf.matmul(L2, W3), B3))"
   ]
  },
  {
   "cell_type": "code",
   "execution_count": 8,
   "metadata": {
    "collapsed": true
   },
   "outputs": [],
   "source": [
    "W4 = tf.Variable(tf.random_normal([128, 10], stddev=0.01), name=\"w4val\")\n",
    "B4 = tf.Variable(tf.random_normal(shape=[10], stddev=0.01), name=\"b4val\")\n",
    "model = tf.add(tf.matmul(L3, W4), B4) #소프트맥스 활성화 함수 적용해 볼 것"
   ]
  },
  {
   "cell_type": "code",
   "execution_count": 9,
   "metadata": {
    "collapsed": true
   },
   "outputs": [],
   "source": [
    "param_list = [W1, W2, W3, W4, B1, B2, B3, B4]\n",
    "saver = tf.train.Saver(param_list)"
   ]
  },
  {
   "cell_type": "code",
   "execution_count": 10,
   "metadata": {
    "collapsed": true
   },
   "outputs": [],
   "source": [
    "cost = tf.reduce_mean(tf.nn.softmax_cross_entropy_with_logits(logits=model, labels=Y))\n",
    "optimizer = tf.train.AdamOptimizer(learning_rate=0.001).minimize(cost)"
   ]
  },
  {
   "cell_type": "code",
   "execution_count": 11,
   "metadata": {
    "collapsed": false
   },
   "outputs": [
    {
     "name": "stdout",
     "output_type": "stream",
     "text": [
      "배치 토탈 :  550\n",
      "Epoch: 0001 Avg. cost = 0.508\n",
      "Epoch: 0002 Avg. cost = 0.169\n",
      "Epoch: 0003 Avg. cost = 0.111\n",
      "Epoch: 0004 Avg. cost = 0.076\n",
      "Epoch: 0005 Avg. cost = 0.060\n",
      "Epoch: 0006 Avg. cost = 0.045\n",
      "Epoch: 0007 Avg. cost = 0.034\n",
      "Epoch: 0008 Avg. cost = 0.030\n",
      "Epoch: 0009 Avg. cost = 0.025\n",
      "Epoch: 0010 Avg. cost = 0.022\n",
      "Epoch: 0011 Avg. cost = 0.021\n",
      "Epoch: 0012 Avg. cost = 0.017\n",
      "Epoch: 0013 Avg. cost = 0.013\n",
      "Epoch: 0014 Avg. cost = 0.015\n",
      "Epoch: 0015 Avg. cost = 0.014\n",
      "최적화 완료!\n",
      "정확도: 0.9783\n"
     ]
    }
   ],
   "source": [
    "with tf.Session() as sess:\n",
    "    sess.run(tf.global_variables_initializer())\n",
    "    \n",
    "    batch_size = 100\n",
    "    total_batch = int(mnist.train.num_examples / batch_size)\n",
    "    print(\"배치 토탈 : \",total_batch)\n",
    "    \n",
    "    for epoch in range(15):\n",
    "        total_cost = 0\n",
    "        \n",
    "        for i in range(total_batch):\n",
    "            batch_xs, batch_ys = mnist.train.next_batch(batch_size)\n",
    "            \n",
    "            _, cost_val = sess.run([optimizer, cost], feed_dict = {X: batch_xs, Y: batch_ys})\n",
    "            total_cost += cost_val\n",
    "            \n",
    "        \n",
    "        print(\"Epoch:\",\"%04d\" % (epoch + 1), \"Avg. cost =\", \"{:.3f}\".format(total_cost / total_batch))\n",
    "    \n",
    "    \n",
    "    print('최적화 완료!')\n",
    "    saver.save(sess, \"./chkp_save4/mnist\")\n",
    "    \n",
    "#     w1_val, b1_val = sess.run([W1,B1])\n",
    "#     print(w1_val)\n",
    "    \n",
    "    is_correct = tf.equal(tf.argmax(model, 1), tf.argmax(Y,1))\n",
    "    accuracy = tf.reduce_mean(tf.cast(is_correct, tf.float32))\n",
    "    print(\"정확도:\", sess.run(accuracy, feed_dict={X:mnist.test.images, Y:mnist.test.labels}))\n",
    "    \n",
    "#     predict = sess.run([model], feed_dict={X:ll})\n",
    "#     print(predict)\n",
    "#     predict = np.array(predict)\n",
    "#     print(\"shape:\", predict.shape)\n",
    "#     print(\"result : \",np.argmax(predict[0], axis=1))"
   ]
  },
  {
   "cell_type": "code",
   "execution_count": null,
   "metadata": {
    "collapsed": true
   },
   "outputs": [],
   "source": []
  }
 ],
 "metadata": {
  "kernelspec": {
   "display_name": "Python [Root]",
   "language": "python",
   "name": "Python [Root]"
  },
  "language_info": {
   "codemirror_mode": {
    "name": "ipython",
    "version": 3
   },
   "file_extension": ".py",
   "mimetype": "text/x-python",
   "name": "python",
   "nbconvert_exporter": "python",
   "pygments_lexer": "ipython3",
   "version": "3.5.2"
  }
 },
 "nbformat": 4,
 "nbformat_minor": 0
}

{
 "cells": [
  {
   "cell_type": "code",
   "execution_count": 1,
   "metadata": {
    "collapsed": false
   },
   "outputs": [
    {
     "name": "stdout",
     "output_type": "stream",
     "text": [
      "1.2.0\n"
     ]
    }
   ],
   "source": [
    "import tensorflow as tf\n",
    "print(tf.__version__)"
   ]
  },
  {
   "cell_type": "code",
   "execution_count": 55,
   "metadata": {
    "collapsed": true
   },
   "outputs": [],
   "source": [
    "\"\"\"\n",
    "아래는 \n",
    "\n",
    "1 1 1\n",
    "1 1 1 \n",
    "\n",
    "행렬이다. \n",
    "\"\"\"\n",
    "\n",
    "x = [[1,1,1],\n",
    "     [1,1,1]]\n",
    "\n",
    "y = [[[ 1, 2, 3],\n",
    "      [40,20,30]],\n",
    "     [[4,70,6],\n",
    "      [7, 8,9]]]"
   ]
  },
  {
   "cell_type": "code",
   "execution_count": 56,
   "metadata": {
    "collapsed": false
   },
   "outputs": [],
   "source": [
    "sum = tf.reduce_sum(x)\n",
    "sum1 = tf.reduce_sum(x, reduction_indices = 1)\n",
    "sum2 = tf.reduce_sum(x, reduction_indices = 0)\n",
    "sum3 = tf.reduce_sum(x, reduction_indices = 1, keep_dims = True)\n",
    "sum4 = tf.reduce_sum(x, reduction_indices = [0, 1])\n",
    "sum5 = tf.reduce_sum(x, reduction_indices = [1, 0])"
   ]
  },
  {
   "cell_type": "code",
   "execution_count": 57,
   "metadata": {
    "collapsed": false
   },
   "outputs": [
    {
     "name": "stdout",
     "output_type": "stream",
     "text": [
      "6\n",
      "[3 3]\n",
      "[2 2 2]\n",
      "[[3]\n",
      " [3]]\n",
      "6\n",
      "6\n"
     ]
    }
   ],
   "source": [
    "sess = tf.Session()\n",
    "print(sess.run(sum))\n",
    "print(sess.run(sum1))\n",
    "print(sess.run(sum2))\n",
    "print(sess.run(sum3))\n",
    "print(sess.run(sum4))\n",
    "print(sess.run(sum5))"
   ]
  },
  {
   "cell_type": "code",
   "execution_count": 58,
   "metadata": {
    "collapsed": false
   },
   "outputs": [
    {
     "data": {
      "text/plain": [
       "array([[2, 0],\n",
       "       [1, 2]])"
      ]
     },
     "execution_count": 58,
     "metadata": {},
     "output_type": "execute_result"
    }
   ],
   "source": [
    "#행렬에서 가장큰 값이 있는 인덱스를 리턴한다.\n",
    "#벡터면 그냥 0써주면 된다.\n",
    "sess.run(tf.arg_max(y,2))"
   ]
  },
  {
   "cell_type": "code",
   "execution_count": null,
   "metadata": {
    "collapsed": true
   },
   "outputs": [],
   "source": []
  },
  {
   "cell_type": "code",
   "execution_count": null,
   "metadata": {
    "collapsed": true
   },
   "outputs": [],
   "source": []
  }
 ],
 "metadata": {
  "kernelspec": {
   "display_name": "Python [Root]",
   "language": "python",
   "name": "Python [Root]"
  },
  "language_info": {
   "codemirror_mode": {
    "name": "ipython",
    "version": 3
   },
   "file_extension": ".py",
   "mimetype": "text/x-python",
   "name": "python",
   "nbconvert_exporter": "python",
   "pygments_lexer": "ipython3",
   "version": "3.5.2"
  }
 },
 "nbformat": 4,
 "nbformat_minor": 0
}

{
 "cells": [
  {
   "cell_type": "code",
   "execution_count": 54,
   "metadata": {
    "collapsed": false
   },
   "outputs": [
    {
     "name": "stdout",
     "output_type": "stream",
     "text": [
      "1.2.0\n"
     ]
    }
   ],
   "source": [
    "import tensorflow as tf\n",
    "print(tf.__version__)\n",
    "import numpy as np"
   ]
  },
  {
   "cell_type": "code",
   "execution_count": 55,
   "metadata": {
    "collapsed": false
   },
   "outputs": [
    {
     "name": "stdout",
     "output_type": "stream",
     "text": [
      "Tensor(\"Const_8:0\", shape=(), dtype=string)\n"
     ]
    }
   ],
   "source": [
    "hello = tf.constant('Hello, World')\n",
    "print(hello)"
   ]
  },
  {
   "cell_type": "code",
   "execution_count": 56,
   "metadata": {
    "collapsed": false
   },
   "outputs": [
    {
     "name": "stdout",
     "output_type": "stream",
     "text": [
      "Tensor(\"add_5:0\", shape=(), dtype=int32)\n"
     ]
    }
   ],
   "source": [
    "a = tf.constant(10)\n",
    "b = tf.constant(20)\n",
    "c = a+b\n",
    "print(c)"
   ]
  },
  {
   "cell_type": "code",
   "execution_count": 57,
   "metadata": {
    "collapsed": false
   },
   "outputs": [
    {
     "name": "stdout",
     "output_type": "stream",
     "text": [
      "30\n"
     ]
    }
   ],
   "source": [
    "with tf.Session() as sess:\n",
    "    print(sess.run(c))\n",
    "    "
   ]
  },
  {
   "cell_type": "code",
   "execution_count": 58,
   "metadata": {
    "collapsed": false
   },
   "outputs": [
    {
     "name": "stdout",
     "output_type": "stream",
     "text": [
      "30\n"
     ]
    }
   ],
   "source": [
    "with tf.Session() as sess:\n",
    "    print(sess.run(tf.add(a,b)))"
   ]
  },
  {
   "cell_type": "code",
   "execution_count": 59,
   "metadata": {
    "collapsed": false
   },
   "outputs": [
    {
     "name": "stdout",
     "output_type": "stream",
     "text": [
      "10\n"
     ]
    }
   ],
   "source": [
    "with tf.Session() as sess:\n",
    "    aa,bb,cc = sess.run([a,b,c])\n",
    "    print(aa)"
   ]
  },
  {
   "cell_type": "code",
   "execution_count": 60,
   "metadata": {
    "collapsed": false
   },
   "outputs": [
    {
     "name": "stdout",
     "output_type": "stream",
     "text": [
      "Tensor(\"Placeholder_7:0\", shape=(?, 3), dtype=float32)\n"
     ]
    }
   ],
   "source": [
    "#아래는 행의 크기가 정해지지 않고 열은 3인 홀더가 만들어 진다. \n",
    "X = tf.placeholder(tf.float32, [None, 3])\n",
    "print(X)"
   ]
  },
  {
   "cell_type": "code",
   "execution_count": 61,
   "metadata": {
    "collapsed": false
   },
   "outputs": [
    {
     "name": "stdout",
     "output_type": "stream",
     "text": [
      "[[ 1.  2.  3.]]\n"
     ]
    }
   ],
   "source": [
    "with tf.Session() as sess:\n",
    "    print(sess.run(X, feed_dict={X:[[1,2,3]]})) #여기서 앞의 x는 연산해야 할 그래프를 나타내고 뒤의 x는 그 그래프안의 홀더를 뜻 한다."
   ]
  },
  {
   "cell_type": "code",
   "execution_count": 62,
   "metadata": {
    "collapsed": true
   },
   "outputs": [],
   "source": [
    "x_data = [[1,2,3],[4,5,6]]"
   ]
  },
  {
   "cell_type": "code",
   "execution_count": 63,
   "metadata": {
    "collapsed": true
   },
   "outputs": [],
   "source": [
    "W = tf.Variable(tf.random_normal([3,2])) #tf.random_normal은 주작위로 정규분포의 값으로 세팅한다.\n",
    "b = tf.Variable(tf.random_normal([2,1]))"
   ]
  },
  {
   "cell_type": "code",
   "execution_count": 64,
   "metadata": {
    "collapsed": true
   },
   "outputs": [],
   "source": [
    "expr = tf.matmul(X,W) + b"
   ]
  },
  {
   "cell_type": "code",
   "execution_count": 65,
   "metadata": {
    "collapsed": false
   },
   "outputs": [
    {
     "name": "stdout",
     "output_type": "stream",
     "text": [
      "[[1, 2, 3], [4, 5, 6]]\n",
      "[[-1.74057806 -0.66880399]\n",
      " [ 0.02417612 -1.1236856 ]\n",
      " [-0.2459085  -0.02459022]]\n",
      "[[ 0.53283751]\n",
      " [ 0.67303425]]\n",
      "[[-1.89711368 -2.4571085 ]\n",
      " [-7.6438489  -7.76815081]]\n"
     ]
    }
   ],
   "source": [
    "with tf.Session() as sess:\n",
    "    sess.run(tf.global_variables_initializer())\n",
    "    print(x_data)\n",
    "    print(sess.run(W))\n",
    "    print(sess.run(b))\n",
    "    print(sess.run(expr, feed_dict={X:x_data}))"
   ]
  },
  {
   "cell_type": "code",
   "execution_count": 66,
   "metadata": {
    "collapsed": false
   },
   "outputs": [
    {
     "name": "stdout",
     "output_type": "stream",
     "text": [
      "[[ 2.  2.]\n",
      " [ 2.  2.]]\n",
      "[[ 1.]\n",
      " [ 2.]]\n",
      "[[ 3.  3.]\n",
      " [ 4.  4.]]\n"
     ]
    }
   ],
   "source": [
    "mat_a = tf.constant(value=[2,2,2,2],dtype=tf.float32, shape=[2,2])\n",
    "mat_b = tf.constant(value=[1,2], dtype=tf.float32, shape=[2,1])\n",
    "with tf.Session() as sess:\n",
    "    print(sess.run(mat_a))\n",
    "    print(sess.run(mat_b))\n",
    "    print(sess.run(mat_a+mat_b))\n"
   ]
  },
  {
   "cell_type": "code",
   "execution_count": 67,
   "metadata": {
    "collapsed": true
   },
   "outputs": [],
   "source": [
    "x_data = [1,2,3]\n",
    "y_data = [1,2,3]"
   ]
  },
  {
   "cell_type": "code",
   "execution_count": 68,
   "metadata": {
    "collapsed": false
   },
   "outputs": [
    {
     "name": "stdout",
     "output_type": "stream",
     "text": [
      "[0]\n",
      "[5]\n",
      "[2]\n",
      "[2]\n",
      "[1]\n",
      "[5]\n",
      "[6]\n",
      "[8]\n",
      "[7]\n",
      "[2]\n"
     ]
    }
   ],
   "source": [
    "with tf.Session() as sess:\n",
    "    for i in range(10):\n",
    "        print(sess.run(tf.random_uniform(shape=[1], minval=0, maxval=9, dtype=tf.int32)))"
   ]
  },
  {
   "cell_type": "code",
   "execution_count": 69,
   "metadata": {
    "collapsed": false
   },
   "outputs": [],
   "source": [
    "W = tf.Variable(tf.random_uniform(shape=[1], minval=-1.0, maxval=1.0))\n",
    "b = tf.Variable(tf.random_uniform(shape=[1], minval=-1.0, maxval=1.0))"
   ]
  },
  {
   "cell_type": "code",
   "execution_count": 70,
   "metadata": {
    "collapsed": true
   },
   "outputs": [],
   "source": [
    "X = tf.placeholder(dtype=tf.float32, name = \"X\")\n",
    "Y = tf.placeholder(dtype=tf.float32, name = \"Y\")"
   ]
  },
  {
   "cell_type": "code",
   "execution_count": 71,
   "metadata": {
    "collapsed": true
   },
   "outputs": [],
   "source": [
    "hypothesis = W * X + b"
   ]
  },
  {
   "cell_type": "code",
   "execution_count": 72,
   "metadata": {
    "collapsed": true
   },
   "outputs": [],
   "source": [
    "cost = tf.reduce_mean(tf.square(hypothesis - Y))"
   ]
  },
  {
   "cell_type": "code",
   "execution_count": 73,
   "metadata": {
    "collapsed": true
   },
   "outputs": [],
   "source": [
    "optimizer = tf.train.GradientDescentOptimizer(learning_rate=0.1)\n",
    "train_op = optimizer.minimize(cost)"
   ]
  },
  {
   "cell_type": "code",
   "execution_count": 74,
   "metadata": {
    "collapsed": false
   },
   "outputs": [
    {
     "name": "stdout",
     "output_type": "stream",
     "text": [
      "0 13.5516 [ 1.08028972] [ 0.24168092]\n",
      "1 0.166111 [ 0.90868032] [ 0.16122887]\n",
      "2 0.00601794 [ 0.92942047] [ 0.16551097]\n",
      "3 0.003914 [ 0.92909032] [ 0.1606406]\n",
      "4 0.00370636 [ 0.93101639] [ 0.15687634]\n",
      "5 0.00353005 [ 0.93265057] [ 0.15309452]\n",
      "6 0.00336236 [ 0.93427223] [ 0.14941539]\n",
      "7 0.00320265 [ 0.93585199] [ 0.14582342]\n",
      "8 0.00305052 [ 0.93739408] [ 0.14231794]\n",
      "9 0.00290562 [ 0.9388991] [ 0.13889672]\n",
      "10 0.0027676 [ 0.94036788] [ 0.13555773]\n",
      "11 0.00263614 [ 0.94180143] [ 0.13229904]\n",
      "12 0.00251093 [ 0.94320053] [ 0.12911868]\n",
      "13 0.00239165 [ 0.94456589] [ 0.12601474]\n",
      "14 0.00227804 [ 0.94589847] [ 0.12298543]\n",
      "15 0.00216984 [ 0.94719911] [ 0.12002896]\n",
      "16 0.00206677 [ 0.94846833] [ 0.11714352]\n",
      "17 0.00196859 [ 0.94970709] [ 0.11432746]\n",
      "18 0.00187509 [ 0.95091611] [ 0.11157912]\n",
      "19 0.00178601 [ 0.9520961] [ 0.10889684]\n",
      "20 0.00170118 [ 0.95324767] [ 0.10627904]\n",
      "21 0.00162037 [ 0.95437151] [ 0.10372414]\n",
      "22 0.0015434 [ 0.95546842] [ 0.1012307]\n",
      "23 0.00147009 [ 0.95653898] [ 0.09879719]\n",
      "24 0.00140026 [ 0.95758373] [ 0.09642217]\n",
      "25 0.00133374 [ 0.95860338] [ 0.09410425]\n",
      "26 0.00127039 [ 0.95959848] [ 0.09184204]\n",
      "27 0.00121005 [ 0.9605698] [ 0.08963425]\n",
      "28 0.00115257 [ 0.96151763] [ 0.08747949]\n",
      "29 0.00109782 [ 0.9624427] [ 0.08537653]\n",
      "30 0.00104568 [ 0.96334553] [ 0.08332413]\n",
      "31 0.000996005 [ 0.96422666] [ 0.08132108]\n",
      "32 0.000948695 [ 0.9650867] [ 0.07936621]\n",
      "33 0.00090363 [ 0.96592599] [ 0.07745828]\n",
      "34 0.000860705 [ 0.96674508] [ 0.07559622]\n",
      "35 0.000819823 [ 0.9675445] [ 0.07377894]\n",
      "36 0.000780882 [ 0.96832472] [ 0.07200536]\n",
      "37 0.000743788 [ 0.96908617] [ 0.07027441]\n",
      "38 0.000708457 [ 0.96982932] [ 0.06858507]\n",
      "39 0.000674804 [ 0.97055459] [ 0.06693631]\n",
      "40 0.00064275 [ 0.97126245] [ 0.06532723]\n",
      "41 0.000612219 [ 0.97195327] [ 0.06375681]\n",
      "42 0.000583142 [ 0.97262758] [ 0.06222416]\n",
      "43 0.000555442 [ 0.9732855] [ 0.06072829]\n",
      "44 0.000529054 [ 0.97392774] [ 0.05926843]\n",
      "45 0.000503926 [ 0.97455448] [ 0.05784364]\n",
      "46 0.000479988 [ 0.9751662] [ 0.05645313]\n",
      "47 0.000457189 [ 0.97576314] [ 0.05509602]\n",
      "48 0.000435471 [ 0.97634584] [ 0.05377156]\n",
      "49 0.000414787 [ 0.97691441] [ 0.05247891]\n",
      "50 0.000395083 [ 0.97746938] [ 0.05121735]\n",
      "51 0.000376319 [ 0.97801101] [ 0.04998613]\n",
      "52 0.000358443 [ 0.97853965] [ 0.04878451]\n",
      "53 0.000341417 [ 0.97905552] [ 0.04761174]\n",
      "54 0.000325196 [ 0.979559] [ 0.04646718]\n",
      "55 0.00030975 [ 0.98005038] [ 0.04535015]\n",
      "56 0.000295037 [ 0.98052996] [ 0.04425996]\n",
      "57 0.000281023 [ 0.98099804] [ 0.04319599]\n",
      "58 0.000267674 [ 0.98145479] [ 0.04215758]\n",
      "59 0.000254959 [ 0.98190063] [ 0.04114415]\n",
      "60 0.00024285 [ 0.98233569] [ 0.04015506]\n",
      "61 0.000231311 [ 0.98276031] [ 0.03918975]\n",
      "62 0.000220325 [ 0.9831748] [ 0.03824768]\n",
      "63 0.000209861 [ 0.98357928] [ 0.03732824]\n",
      "64 0.000199891 [ 0.98397398] [ 0.03643087]\n",
      "65 0.000190396 [ 0.98435926] [ 0.03555511]\n",
      "66 0.000181353 [ 0.98473525] [ 0.03470038]\n",
      "67 0.000172738 [ 0.98510218] [ 0.0338662]\n",
      "68 0.000164533 [ 0.98546034] [ 0.0330521]\n",
      "69 0.000156717 [ 0.9858098] [ 0.03225753]\n",
      "70 0.000149274 [ 0.98615098] [ 0.03148209]\n",
      "71 0.000142183 [ 0.98648393] [ 0.0307253]\n",
      "72 0.000135429 [ 0.98680884] [ 0.02998668]\n",
      "73 0.000128996 [ 0.98712593] [ 0.02926581]\n",
      "74 0.000122868 [ 0.9874354] [ 0.02856227]\n",
      "75 0.000117031 [ 0.98773742] [ 0.02787565]\n",
      "76 0.000111473 [ 0.98803222] [ 0.02720555]\n",
      "77 0.000106179 [ 0.98831999] [ 0.02655157]\n",
      "78 0.000101134 [ 0.98860073] [ 0.02591326]\n",
      "79 9.63302e-05 [ 0.98887473] [ 0.02529032]\n",
      "80 9.17547e-05 [ 0.98914218] [ 0.02468236]\n",
      "81 8.73969e-05 [ 0.98940325] [ 0.02408903]\n",
      "82 8.32442e-05 [ 0.98965794] [ 0.02350991]\n",
      "83 7.92899e-05 [ 0.98990655] [ 0.02294475]\n",
      "84 7.55249e-05 [ 0.9901492] [ 0.02239319]\n",
      "85 7.19366e-05 [ 0.99038601] [ 0.02185488]\n",
      "86 6.85198e-05 [ 0.9906171] [ 0.0213295]\n",
      "87 6.5265e-05 [ 0.9908427] [ 0.02081676]\n",
      "88 6.21656e-05 [ 0.99106282] [ 0.02031633]\n",
      "89 5.92118e-05 [ 0.99127769] [ 0.01982794]\n",
      "90 5.63998e-05 [ 0.99148738] [ 0.01935129]\n",
      "91 5.37206e-05 [ 0.99169201] [ 0.01888609]\n",
      "92 5.11694e-05 [ 0.99189168] [ 0.01843207]\n",
      "93 4.87375e-05 [ 0.99208659] [ 0.01798897]\n",
      "94 4.64235e-05 [ 0.99227685] [ 0.01755654]\n",
      "95 4.42181e-05 [ 0.99246252] [ 0.01713451]\n",
      "96 4.21184e-05 [ 0.99264377] [ 0.01672262]\n",
      "97 4.01167e-05 [ 0.99282056] [ 0.01632059]\n",
      "98 3.82109e-05 [ 0.99299312] [ 0.01592823]\n",
      "99 3.63963e-05 [ 0.99316156] [ 0.01554533]\n",
      "X: 5, Y:  [ 4.98135328]\n"
     ]
    }
   ],
   "source": [
    "with tf.Session() as sess:\n",
    "    sess.run(tf.global_variables_initializer())\n",
    "    \n",
    "    for step in range(100):\n",
    "        _, cost_val = sess.run([train_op, cost], feed_dict={X:x_data, Y:y_data})\n",
    "        \n",
    "        print(step, cost_val, sess.run(W), sess.run(b))\n",
    "    \n",
    "    print(\"X: 5, Y: \", sess.run(hypothesis, feed_dict={X:5}))"
   ]
  },
  {
   "cell_type": "code",
   "execution_count": 75,
   "metadata": {
    "collapsed": true
   },
   "outputs": [],
   "source": [
    "x_data = np.array([[0,0],\n",
    "                   [1,0],\n",
    "                   [1,1],\n",
    "                   [0,0],\n",
    "                   [0,0],\n",
    "                   [0,1]])  #날개, 털 있으면 1 없으면 0"
   ]
  },
  {
   "cell_type": "code",
   "execution_count": 76,
   "metadata": {
    "collapsed": true
   },
   "outputs": [],
   "source": [
    "y_data = np.array([\n",
    "        [1,0,0],  #기타\n",
    "        [0,1,0],  #포유류\n",
    "        [0,0,1],  #조류\n",
    "        [1,0,0],\n",
    "        [1,0,0],\n",
    "        [0,0,1]\n",
    "    ])"
   ]
  },
  {
   "cell_type": "code",
   "execution_count": 77,
   "metadata": {
    "collapsed": true
   },
   "outputs": [],
   "source": [
    "X = tf.placeholder(dtype=tf.float32)\n",
    "Y = tf.placeholder(dtype=tf.float32)"
   ]
  },
  {
   "cell_type": "code",
   "execution_count": 78,
   "metadata": {
    "collapsed": false
   },
   "outputs": [],
   "source": [
    "W = tf.Variable(tf.random_uniform([2,3], -1.,1.))\n",
    "b = tf.Variable(tf.zeros([3]))"
   ]
  },
  {
   "cell_type": "code",
   "execution_count": 79,
   "metadata": {
    "collapsed": false
   },
   "outputs": [
    {
     "name": "stdout",
     "output_type": "stream",
     "text": [
      "[ 0.  0.  0.]\n",
      "[[-0.72813773  0.73657107  0.38934898]\n",
      " [-0.67828202 -0.0703969   0.17200136]]\n"
     ]
    }
   ],
   "source": [
    "with tf.Session() as sess:\n",
    "    print(sess.run(tf.zeros([3])))\n",
    "    print(sess.run(tf.random_uniform([2,3], -1.,1.)))"
   ]
  },
  {
   "cell_type": "code",
   "execution_count": 80,
   "metadata": {
    "collapsed": true
   },
   "outputs": [],
   "source": [
    "L = tf.add(tf.matmul(X,W), b)\n",
    "L = tf.nn.relu(L)"
   ]
  },
  {
   "cell_type": "code",
   "execution_count": 81,
   "metadata": {
    "collapsed": false
   },
   "outputs": [
    {
     "name": "stdout",
     "output_type": "stream",
     "text": [
      "[[ 0.          0.          0.        ]\n",
      " [-0.18138576 -0.67487407  0.20770836]\n",
      " [-0.58908939  0.08517241  0.47319937]\n",
      " [ 0.          0.          0.        ]\n",
      " [ 0.          0.          0.        ]\n",
      " [-0.40770364  0.76004648  0.26549101]]\n"
     ]
    }
   ],
   "source": [
    "with tf.Session() as sess:\n",
    "    sess.run(tf.global_variables_initializer())\n",
    "    print(sess.run(tf.matmul(X,W),feed_dict={X:x_data}))"
   ]
  },
  {
   "cell_type": "code",
   "execution_count": 82,
   "metadata": {
    "collapsed": true
   },
   "outputs": [],
   "source": [
    "model = tf.nn.softmax(L)"
   ]
  },
  {
   "cell_type": "code",
   "execution_count": 83,
   "metadata": {
    "collapsed": true
   },
   "outputs": [],
   "source": [
    "cost = tf.reduce_mean(-tf.reduce_sum(Y * tf.log(model), axis=1))"
   ]
  },
  {
   "cell_type": "code",
   "execution_count": 84,
   "metadata": {
    "collapsed": false
   },
   "outputs": [
    {
     "name": "stdout",
     "output_type": "stream",
     "text": [
      "100000000 loops, best of 3: 18.6 ns per loop\n"
     ]
    }
   ],
   "source": [
    "%timeit 3+5"
   ]
  },
  {
   "cell_type": "code",
   "execution_count": 85,
   "metadata": {
    "collapsed": false
   },
   "outputs": [
    {
     "name": "stdout",
     "output_type": "stream",
     "text": [
      "The slowest run took 7.99 times longer than the fastest. This could mean that an intermediate result is being cached.\n",
      "1000000 loops, best of 3: 722 ns per loop\n"
     ]
    }
   ],
   "source": [
    "%%timeit\n",
    "a = [1,2,3]\n",
    "a = [x+1 for x in a]"
   ]
  },
  {
   "cell_type": "code",
   "execution_count": 86,
   "metadata": {
    "collapsed": true
   },
   "outputs": [],
   "source": [
    "optimizer = tf.train.GradientDescentOptimizer(learning_rate=0.01)\n",
    "train_op = optimizer.minimize(cost)"
   ]
  },
  {
   "cell_type": "code",
   "execution_count": 87,
   "metadata": {
    "collapsed": false
   },
   "outputs": [
    {
     "name": "stdout",
     "output_type": "stream",
     "text": [
      "10 0.944255\n",
      "20 0.938797\n",
      "30 0.933455\n",
      "40 0.92836\n",
      "50 0.92338\n",
      "60 0.918519\n",
      "70 0.913822\n",
      "80 0.90928\n",
      "90 0.904872\n",
      "100 0.900544\n"
     ]
    }
   ],
   "source": [
    "with tf.Session() as sess:\n",
    "    sess.run(tf.global_variables_initializer())\n",
    "    for step in range(100):\n",
    "        sess.run(train_op, feed_dict={X:x_data, Y:y_data})\n",
    "        \n",
    "        if (step + 1) % 10 == 0:\n",
    "            print(step + 1, sess.run(cost, feed_dict={X:x_data, Y:y_data}))\n",
    "    "
   ]
  },
  {
   "cell_type": "code",
   "execution_count": 94,
   "metadata": {
    "collapsed": false
   },
   "outputs": [
    {
     "name": "stdout",
     "output_type": "stream",
     "text": [
      "예측값 :  [0 2 2 0 0 2]\n",
      "실제값 :  [0 1 2 0 0 2]\n",
      "정확도: 83.33\n"
     ]
    }
   ],
   "source": [
    "prediction = tf.argmax(model, axis=1)\n",
    "target = tf.argmax(Y, axis=1)\n",
    "with tf.Session() as sess:\n",
    "    sess.run(tf.global_variables_initializer())\n",
    "    print('예측값 : ', sess.run(prediction, feed_dict = {X: x_data}))\n",
    "    print('실제값 : ', sess.run(target, feed_dict = {Y:y_data}))\n",
    "    is_correct = tf.equal(prediction, target)\n",
    "    accuracy = tf.reduce_mean(tf.cast(is_correct, tf.float32))\n",
    "    print('정확도: %.2f' % sess.run(accuracy * 100, feed_dict={X: x_data, Y: y_data}))"
   ]
  },
  {
   "cell_type": "code",
   "execution_count": null,
   "metadata": {
    "collapsed": true
   },
   "outputs": [],
   "source": []
  }
 ],
 "metadata": {
  "anaconda-cloud": {},
  "kernelspec": {
   "display_name": "Python [Root]",
   "language": "python",
   "name": "Python [Root]"
  },
  "language_info": {
   "codemirror_mode": {
    "name": "ipython",
    "version": 3
   },
   "file_extension": ".py",
   "mimetype": "text/x-python",
   "name": "python",
   "nbconvert_exporter": "python",
   "pygments_lexer": "ipython3",
   "version": "3.5.2"
  }
 },
 "nbformat": 4,
 "nbformat_minor": 0
}

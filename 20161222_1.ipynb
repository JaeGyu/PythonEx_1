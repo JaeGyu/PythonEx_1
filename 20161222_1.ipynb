{
 "cells": [
  {
   "cell_type": "code",
   "execution_count": 1,
   "metadata": {
    "collapsed": true
   },
   "outputs": [],
   "source": [
    "import sys"
   ]
  },
  {
   "cell_type": "code",
   "execution_count": 2,
   "metadata": {
    "collapsed": false
   },
   "outputs": [
    {
     "data": {
      "text/plain": [
       "['',\n",
       " '/Users/jaegyuhan/anaconda3/lib/python35.zip',\n",
       " '/Users/jaegyuhan/anaconda3/lib/python3.5',\n",
       " '/Users/jaegyuhan/anaconda3/lib/python3.5/plat-darwin',\n",
       " '/Users/jaegyuhan/anaconda3/lib/python3.5/lib-dynload',\n",
       " '/Users/jaegyuhan/anaconda3/lib/python3.5/site-packages',\n",
       " '/Users/jaegyuhan/anaconda3/lib/python3.5/site-packages/Sphinx-1.4.1-py3.5.egg',\n",
       " '/Users/jaegyuhan/anaconda3/lib/python3.5/site-packages/aeosa',\n",
       " '/Users/jaegyuhan/anaconda3/lib/python3.5/site-packages/setuptools-23.0.0-py3.5.egg',\n",
       " '/Users/jaegyuhan/anaconda3/lib/python3.5/site-packages/IPython/extensions',\n",
       " '/Users/jaegyuhan/.ipython']"
      ]
     },
     "execution_count": 2,
     "metadata": {},
     "output_type": "execute_result"
    }
   ],
   "source": [
    "# 아래는 파이썬이 모듈을 찾은 경로를 보여 준다. \n",
    "sys.path"
   ]
  },
  {
   "cell_type": "code",
   "execution_count": null,
   "metadata": {
    "collapsed": true
   },
   "outputs": [],
   "source": []
  }
 ],
 "metadata": {
  "anaconda-cloud": {},
  "kernelspec": {
   "display_name": "Python [Root]",
   "language": "python",
   "name": "Python [Root]"
  },
  "language_info": {
   "codemirror_mode": {
    "name": "ipython",
    "version": 3
   },
   "file_extension": ".py",
   "mimetype": "text/x-python",
   "name": "python",
   "nbconvert_exporter": "python",
   "pygments_lexer": "ipython3",
   "version": "3.5.2"
  }
 },
 "nbformat": 4,
 "nbformat_minor": 0
}

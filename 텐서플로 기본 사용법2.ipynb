{
 "cells": [
  {
   "cell_type": "code",
   "execution_count": 1,
   "metadata": {
    "collapsed": false
   },
   "outputs": [
    {
     "name": "stdout",
     "output_type": "stream",
     "text": [
      "1.2.0\n"
     ]
    }
   ],
   "source": [
    "import tensorflow as tf\n",
    "print(tf.__version__)"
   ]
  },
  {
   "cell_type": "code",
   "execution_count": 17,
   "metadata": {
    "collapsed": false
   },
   "outputs": [],
   "source": [
    "#x = tf.placeholder(tf.float32, shape=[None,2], name = \"x\")\n",
    "#y_ = tf.placeholder(tf.float32, shape=[None,2], name=\"y_\")\n",
    "\n",
    "#truncated_normal은 0을 평균으로 정규분포하는 임의의 숫자를 할당한다. \n",
    "X  = tf.Variable(tf.truncated_normal(shape=[2,2]), dtype=tf.float32, name=\"w\")\n",
    "X2 = tf.Variable(tf.random_normal(shape=[3,1]), name=\"X2\")\n",
    "X3 = tf.Variable(tf.random_normal([3]), name = \"x3\")"
   ]
  },
  {
   "cell_type": "code",
   "execution_count": 18,
   "metadata": {
    "collapsed": false
   },
   "outputs": [
    {
     "name": "stdout",
     "output_type": "stream",
     "text": [
      "[[ 1.67744899 -0.08626098]\n",
      " [ 0.93541199 -1.06239355]]\n",
      "================================================================================\n",
      "[[-0.45543519]\n",
      " [-0.08910601]\n",
      " [ 0.70412642]]\n",
      "================================================================================\n",
      "[-1.88180792 -0.17997932 -0.21033059]\n"
     ]
    }
   ],
   "source": [
    "sess = tf.Session()\n",
    "\n",
    "#아래의 global_variables_initializer()을 꼭 해줘야 한다.\n",
    "sess.run(tf.global_variables_initializer())\n",
    "x_val = sess.run(X)\n",
    "print(x_val)\n",
    "\n",
    "print(\"=\"*80)\n",
    "\n",
    "x2_val = sess.run(X2)\n",
    "print(x2_val)\n",
    "\n",
    "print(\"=\" * 80)\n",
    "x3_val = sess.run(X3)\n",
    "print(x3_val)"
   ]
  }
 ],
 "metadata": {
  "kernelspec": {
   "display_name": "Python [Root]",
   "language": "python",
   "name": "Python [Root]"
  },
  "language_info": {
   "codemirror_mode": {
    "name": "ipython",
    "version": 3
   },
   "file_extension": ".py",
   "mimetype": "text/x-python",
   "name": "python",
   "nbconvert_exporter": "python",
   "pygments_lexer": "ipython3",
   "version": "3.5.2"
  }
 },
 "nbformat": 4,
 "nbformat_minor": 0
}

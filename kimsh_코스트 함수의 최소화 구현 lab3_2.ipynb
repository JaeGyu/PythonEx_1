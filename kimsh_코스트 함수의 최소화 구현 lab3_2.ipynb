{
 "cells": [
  {
   "cell_type": "code",
   "execution_count": 4,
   "metadata": {
    "collapsed": false
   },
   "outputs": [
    {
     "name": "stdout",
     "output_type": "stream",
     "text": [
      "1.2.0\n"
     ]
    }
   ],
   "source": [
    "import tensorflow as tf\n",
    "import matplotlib.pyplot as plt\n",
    "%matplotlib inline\n",
    "print(tf.__version__)"
   ]
  },
  {
   "cell_type": "code",
   "execution_count": 6,
   "metadata": {
    "collapsed": true
   },
   "outputs": [],
   "source": [
    "x_data = [1,2,3]\n",
    "y_data = [1,2,3]\n",
    "\n",
    "W = tf.Variable(tf.random_normal([1]), name = \"weight\")\n",
    "X = tf.placeholder(tf.float32)\n",
    "Y = tf.placeholder(tf.float32)\n",
    "\n",
    "hypothesis = W * X"
   ]
  },
  {
   "cell_type": "code",
   "execution_count": 11,
   "metadata": {
    "collapsed": true
   },
   "outputs": [],
   "source": [
    "\n",
    "#cost function을 정의 한다.\n",
    "cost = tf.reduce_mean(tf.square(hypothesis - Y))"
   ]
  },
  {
   "cell_type": "code",
   "execution_count": 12,
   "metadata": {
    "collapsed": true
   },
   "outputs": [],
   "source": [
    "learning_rate = 0.1\n",
    "\n",
    "#기울기를 구한다. \n",
    "#(W * X -Y) 는 hypothesis - Y랑 동일 하다. \n",
    "gradient = tf.reduce_mean((W * X - Y) * X)\n",
    "\n",
    "#원래의 W에서 학습율을 곱한 기울기를 뺀다 \n",
    "descent = W - learning_rate * gradient\n",
    "\n",
    "#원래의 W에 적용한다. \n",
    "update = W.assign(descent)"
   ]
  },
  {
   "cell_type": "code",
   "execution_count": 13,
   "metadata": {
    "collapsed": true
   },
   "outputs": [],
   "source": [
    "\n",
    "sess = tf.Session()\n",
    "sess.run(tf.global_variables_initializer())\n"
   ]
  },
  {
   "cell_type": "code",
   "execution_count": 15,
   "metadata": {
    "collapsed": false
   },
   "outputs": [
    {
     "name": "stdout",
     "output_type": "stream",
     "text": [
      "0 0.0254731 [ 0.92611825]\n",
      "1 0.00724566 [ 0.96059644]\n",
      "2 0.00206099 [ 0.97898477]\n",
      "3 0.000586237 [ 0.98879188]\n",
      "4 0.00016675 [ 0.99402237]\n",
      "5 4.74307e-05 [ 0.99681193]\n",
      "6 1.34907e-05 [ 0.99829972]\n",
      "7 3.83733e-06 [ 0.99909317]\n",
      "8 1.09165e-06 [ 0.99951637]\n",
      "9 3.10383e-07 [ 0.99974209]\n",
      "10 8.83158e-08 [ 0.99986243]\n",
      "11 2.51149e-08 [ 0.99992663]\n",
      "12 7.16112e-09 [ 0.99996084]\n",
      "13 2.026e-09 [ 0.99997914]\n",
      "14 5.78435e-10 [ 0.99998885]\n",
      "15 1.65793e-10 [ 0.99999404]\n",
      "16 4.69491e-11 [ 0.99999684]\n",
      "17 1.29982e-11 [ 0.99999833]\n",
      "18 3.62495e-12 [ 0.99999911]\n",
      "19 1.06108e-12 [ 0.99999952]\n",
      "20 2.65269e-13 [ 0.99999976]\n"
     ]
    }
   ],
   "source": [
    "for step in range(21):\n",
    "    sess.run(update, feed_dict={X: x_data, Y: y_data})\n",
    "    print(step, sess.run(cost, feed_dict={X: x_data, Y: y_data}), sess.run(W))"
   ]
  },
  {
   "cell_type": "code",
   "execution_count": null,
   "metadata": {
    "collapsed": true
   },
   "outputs": [],
   "source": [
    "\n",
    "#텐서 플로에선 코스트 함수의 최소값을 위에처럼 일일히 구현하지 않아도 되는 기능을 제공하고 있다.\n",
    "# optimizer = tf.train.GradientDescentOptimizer(learning_rate=0.01)\n",
    "# train = optimizer.minimize(cost)"
   ]
  }
 ],
 "metadata": {
  "kernelspec": {
   "display_name": "Python [Root]",
   "language": "python",
   "name": "Python [Root]"
  },
  "language_info": {
   "codemirror_mode": {
    "name": "ipython",
    "version": 3
   },
   "file_extension": ".py",
   "mimetype": "text/x-python",
   "name": "python",
   "nbconvert_exporter": "python",
   "pygments_lexer": "ipython3",
   "version": "3.5.2"
  }
 },
 "nbformat": 4,
 "nbformat_minor": 0
}

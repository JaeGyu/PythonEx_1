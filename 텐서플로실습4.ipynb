{
 "cells": [
  {
   "cell_type": "code",
   "execution_count": 19,
   "metadata": {
    "collapsed": false
   },
   "outputs": [
    {
     "name": "stdout",
     "output_type": "stream",
     "text": [
      "1.2.0\n"
     ]
    }
   ],
   "source": [
    "import tensorflow as tf\n",
    "print(tf.__version__)\n",
    "import numpy\n",
    "import matplotlib.pyplot as plt\n",
    "%matplotlib inline"
   ]
  },
  {
   "cell_type": "code",
   "execution_count": 20,
   "metadata": {
    "collapsed": true
   },
   "outputs": [],
   "source": [
    "W = tf.Variable(tf.random_uniform([1],-1.0,1.0), name = 'weight')  # tf.random_normal([1])에서 [1]은 shape이다 \n",
    "b = tf.Variable(tf.zeros([1]), name = 'bias')\n",
    "\n",
    "X = tf.placeholder(tf.float32)\n",
    "Y = tf.placeholder(tf.float32)\n",
    "\n",
    "\n",
    "hypothesis = X * W + b"
   ]
  },
  {
   "cell_type": "code",
   "execution_count": 21,
   "metadata": {
    "collapsed": true
   },
   "outputs": [],
   "source": [
    "cost = tf.reduce_mean(tf.square(hypothesis - Y))"
   ]
  },
  {
   "cell_type": "code",
   "execution_count": 22,
   "metadata": {
    "collapsed": true
   },
   "outputs": [],
   "source": [
    "optimizer = tf.train.GradientDescentOptimizer(learning_rate=0.0015)\n",
    "train = optimizer.minimize(cost)"
   ]
  },
  {
   "cell_type": "code",
   "execution_count": 23,
   "metadata": {
    "collapsed": true
   },
   "outputs": [],
   "source": [
    "sess = tf.Session()\n",
    "sess.run(tf.global_variables_initializer()) #우리가 여기에서 변수 두개를 선언했다. W,b 이걸 초기화하고 써야 한다. "
   ]
  },
  {
   "cell_type": "code",
   "execution_count": 24,
   "metadata": {
    "collapsed": false
   },
   "outputs": [],
   "source": [
    "import numpy as np\n",
    "num_points = 200\n",
    "vectors_set = []\n",
    "for i in range(num_points):\n",
    "  x = np.random.normal(5,5)+15\n",
    "  y =  x*1000+ (np.random.normal(0,3))*1000\n",
    "  vectors_set.append([x,y])\n",
    "  \n",
    "x_data = [v[0] for v in vectors_set ]\n",
    "y_data = [v[1] for v in vectors_set ]\n"
   ]
  },
  {
   "cell_type": "code",
   "execution_count": 27,
   "metadata": {
    "collapsed": false
   },
   "outputs": [
    {
     "name": "stdout",
     "output_type": "stream",
     "text": [
      "0 1.06958e+07 [ 1068.6854248] [-1110.79711914]\n",
      "1 1.06957e+07 [ 1068.69421387] [-1110.98522949]\n",
      "2 1.06957e+07 [ 1068.703125] [-1111.17333984]\n",
      "3 1.06957e+07 [ 1068.71203613] [-1111.36132812]\n",
      "4 1.06957e+07 [ 1068.7208252] [-1111.54931641]\n",
      "5 1.06956e+07 [ 1068.72973633] [-1111.73730469]\n",
      "6 1.06956e+07 [ 1068.73852539] [-1111.9251709]\n",
      "7 1.06956e+07 [ 1068.74743652] [-1112.11303711]\n",
      "8 1.06956e+07 [ 1068.75634766] [-1112.30090332]\n",
      "9 1.06955e+07 [ 1068.76513672] [-1112.48864746]\n"
     ]
    },
    {
     "data": {
      "image/png": "[encoded data removed]",
      "text/plain": [
       "<matplotlib.figure.Figure at 0x11e5c1780>"
      ]
     },
     "metadata": {},
     "output_type": "display_data"
    }
   ],
   "source": [
    "for step in range(10):\n",
    "    cost_val, W_val, b_val, train_val = \\\n",
    "        sess.run([cost, W, b, train], feed_dict={X:x_data, Y:y_data})\n",
    "\n",
    "    if step % 1 == 0:\n",
    "        print(step, cost_val, W_val, b_val)\n",
    "        plt.plot(x_data,y_data,'ro')\n",
    "        plt.plot(x_data, W_val*x_data + b_val)"
   ]
  },
  {
   "cell_type": "code",
   "execution_count": 7,
   "metadata": {
    "collapsed": false
   },
   "outputs": [
    {
     "name": "stdout",
     "output_type": "stream",
     "text": [
      "[ 3.33067632]\n"
     ]
    }
   ],
   "source": [
    "print(sess.run(hypothesis, feed_dict={X:[3]}))"
   ]
  },
  {
   "cell_type": "code",
   "execution_count": 8,
   "metadata": {
    "collapsed": false
   },
   "outputs": [
    {
     "name": "stdout",
     "output_type": "stream",
     "text": [
      "[ 2.33433247]\n",
      "[ 1.83616066  3.82884812]\n"
     ]
    }
   ],
   "source": [
    "print(sess.run(hypothesis, feed_dict={X:[2]}))\n",
    "print(sess.run(hypothesis, feed_dict={X:[1.5, 3.5]}))"
   ]
  },
  {
   "cell_type": "code",
   "execution_count": null,
   "metadata": {
    "collapsed": true
   },
   "outputs": [],
   "source": []
  }
 ],
 "metadata": {
  "anaconda-cloud": {},
  "kernelspec": {
   "display_name": "Python [Root]",
   "language": "python",
   "name": "Python [Root]"
  },
  "language_info": {
   "codemirror_mode": {
    "name": "ipython",
    "version": 3
   },
   "file_extension": ".py",
   "mimetype": "text/x-python",
   "name": "python",
   "nbconvert_exporter": "python",
   "pygments_lexer": "ipython3",
   "version": "3.5.2"
  }
 },
 "nbformat": 4,
 "nbformat_minor": 0
}

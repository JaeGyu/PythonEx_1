{
 "cells": [
  {
   "cell_type": "code",
   "execution_count": 1,
   "metadata": {
    "collapsed": true
   },
   "outputs": [],
   "source": [
    "def argsfunc(*args):\n",
    "    i=0\n",
    "    for x in args:\n",
    "        i+=1\n",
    "    print(\"인수의 개수 : %d\" % i)\n",
    "    print(args)"
   ]
  },
  {
   "cell_type": "code",
   "execution_count": 2,
   "metadata": {
    "collapsed": false
   },
   "outputs": [
    {
     "name": "stdout",
     "output_type": "stream",
     "text": [
      "인수의 개수 : 3\n",
      "(1, 2, (3, 4, 5))\n"
     ]
    }
   ],
   "source": [
    "argsfunc(1,2,(3,4,5))"
   ]
  },
  {
   "cell_type": "code",
   "execution_count": 3,
   "metadata": {
    "collapsed": false
   },
   "outputs": [
    {
     "name": "stdout",
     "output_type": "stream",
     "text": [
      "인수의 개수 : 4\n",
      "(1, 'df', [1, 2, 3], {'a': 'bb'})\n"
     ]
    }
   ],
   "source": [
    "argsfunc(1,\"df\",[1,2,3],{\"a\":\"bb\"})"
   ]
  },
  {
   "cell_type": "code",
   "execution_count": 7,
   "metadata": {
    "collapsed": true
   },
   "outputs": [],
   "source": [
    "def dictsfunc(**dicts):\n",
    "    i = 0\n",
    "    for x in dicts.keys():\n",
    "        i+=1\n",
    "    print(\"인수의 개수 %d\" % i)\n",
    "    print(dicts)"
   ]
  },
  {
   "cell_type": "code",
   "execution_count": 8,
   "metadata": {
    "collapsed": false
   },
   "outputs": [
    {
     "name": "stdout",
     "output_type": "stream",
     "text": [
      "인수의 개수 3\n",
      "{'c': 4, 'a': 1, 'b': 2}\n"
     ]
    }
   ],
   "source": [
    "dictsfunc(a=1,b=2,c=4)"
   ]
  },
  {
   "cell_type": "code",
   "execution_count": 11,
   "metadata": {
    "collapsed": false
   },
   "outputs": [
    {
     "name": "stdout",
     "output_type": "stream",
     "text": [
      "인수의 개수 2\n",
      "{'c': 1, 'b': 'A'}\n"
     ]
    }
   ],
   "source": [
    "dictsfunc(b=\"A\",c=1)"
   ]
  },
  {
   "cell_type": "code",
   "execution_count": 12,
   "metadata": {
    "collapsed": true
   },
   "outputs": [],
   "source": [
    "def recommandable(*args,a):\n",
    "    print(a,args)"
   ]
  },
  {
   "cell_type": "code",
   "execution_count": 13,
   "metadata": {
    "collapsed": false
   },
   "outputs": [
    {
     "name": "stdout",
     "output_type": "stream",
     "text": [
      "4 (1, 2, 3)\n"
     ]
    }
   ],
   "source": [
    "recommandable(1,2,3,a=4)"
   ]
  },
  {
   "cell_type": "code",
   "execution_count": 15,
   "metadata": {
    "collapsed": false
   },
   "outputs": [
    {
     "name": "stdout",
     "output_type": "stream",
     "text": [
      "4 (1, 2, 3)\n"
     ]
    }
   ],
   "source": [
    "recommandable(1,2,3,a=4)"
   ]
  },
  {
   "cell_type": "code",
   "execution_count": null,
   "metadata": {
    "collapsed": true
   },
   "outputs": [],
   "source": []
  }
 ],
 "metadata": {
  "anaconda-cloud": {},
  "kernelspec": {
   "display_name": "Python [Root]",
   "language": "python",
   "name": "Python [Root]"
  },
  "language_info": {
   "codemirror_mode": {
    "name": "ipython",
    "version": 3
   },
   "file_extension": ".py",
   "mimetype": "text/x-python",
   "name": "python",
   "nbconvert_exporter": "python",
   "pygments_lexer": "ipython3",
   "version": "3.5.2"
  }
 },
 "nbformat": 4,
 "nbformat_minor": 0
}

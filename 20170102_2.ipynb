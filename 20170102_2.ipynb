{
 "cells": [
  {
   "cell_type": "code",
   "execution_count": 1,
   "metadata": {
    "collapsed": true
   },
   "outputs": [],
   "source": [
    "def argsfunc(*args):\n",
    "    i=0\n",
    "    for x in args:\n",
    "        i+=1\n",
    "    print(\"인수의 개수 : %d\" % i)\n",
    "    print(args)"
   ]
  },
  {
   "cell_type": "code",
   "execution_count": 2,
   "metadata": {
    "collapsed": false
   },
   "outputs": [
    {
     "name": "stdout",
     "output_type": "stream",
     "text": [
      "인수의 개수 : 3\n",
      "(1, 2, (3, 4, 5))\n"
     ]
    }
   ],
   "source": [
    "argsfunc(1,2,(3,4,5))"
   ]
  },
  {
   "cell_type": "code",
   "execution_count": 3,
   "metadata": {
    "collapsed": false
   },
   "outputs": [
    {
     "name": "stdout",
     "output_type": "stream",
     "text": [
      "인수의 개수 : 4\n",
      "(1, 'df', [1, 2, 3], {'a': 'bb'})\n"
     ]
    }
   ],
   "source": [
    "argsfunc(1,\"df\",[1,2,3],{\"a\":\"bb\"})"
   ]
  },
  {
   "cell_type": "code",
   "execution_count": 7,
   "metadata": {
    "collapsed": true
   },
   "outputs": [],
   "source": [
    "def dictsfunc(**dicts):\n",
    "    i = 0\n",
    "    for x in dicts.keys():\n",
    "        i+=1\n",
    "    print(\"인수의 개수 %d\" % i)\n",
    "    print(dicts)"
   ]
  },
  {
   "cell_type": "code",
   "execution_count": 8,
   "metadata": {
    "collapsed": false
   },
   "outputs": [
    {
     "name": "stdout",
     "output_type": "stream",
     "text": [
      "인수의 개수 3\n",
      "{'c': 4, 'a': 1, 'b': 2}\n"
     ]
    }
   ],
   "source": [
    "dictsfunc(a=1,b=2,c=4)"
   ]
  },
  {
   "cell_type": "code",
   "execution_count": 11,
   "metadata": {
    "collapsed": false,
    "scrolled": false
   },
   "outputs": [
    {
     "name": "stdout",
     "output_type": "stream",
     "text": [
      "인수의 개수 2\n",
      "{'c': 1, 'b': 'A'}\n"
     ]
    }
   ],
   "source": [
    "dictsfunc(b=\"A\",c=1)"
   ]
  },
  {
   "cell_type": "code",
   "execution_count": 12,
   "metadata": {
    "collapsed": true
   },
   "outputs": [],
   "source": [
    "def recommandable(*args,a):\n",
    "    print(a,args)"
   ]
  },
  {
   "cell_type": "code",
   "execution_count": 13,
   "metadata": {
    "collapsed": false
   },
   "outputs": [
    {
     "name": "stdout",
     "output_type": "stream",
     "text": [
      "4 (1, 2, 3)\n"
     ]
    }
   ],
   "source": [
    "recommandable(1,2,3,a=4)"
   ]
  },
  {
   "cell_type": "code",
   "execution_count": 15,
   "metadata": {
    "collapsed": false
   },
   "outputs": [
    {
     "name": "stdout",
     "output_type": "stream",
     "text": [
      "4 (1, 2, 3)\n"
     ]
    }
   ],
   "source": [
    "recommandable(1,2,3,a=4)"
   ]
  },
  {
   "cell_type": "code",
   "execution_count": 16,
   "metadata": {
    "collapsed": false
   },
   "outputs": [
    {
     "name": "stdout",
     "output_type": "stream",
     "text": [
      "\n"
     ]
    }
   ],
   "source": [
    "print()"
   ]
  },
  {
   "cell_type": "code",
   "execution_count": 17,
   "metadata": {
    "collapsed": true
   },
   "outputs": [],
   "source": [
    "a = \"전역값\"\n",
    "\n",
    "def aTest():\n",
    "    a = a+\"!!\"\n",
    "    print(a)\n",
    "\n",
    "    "
   ]
  },
  {
   "cell_type": "code",
   "execution_count": 18,
   "metadata": {
    "collapsed": false
   },
   "outputs": [
    {
     "ename": "UnboundLocalError",
     "evalue": "local variable 'a' referenced before assignment",
     "output_type": "error",
     "traceback": [
      "\u001b[0;31m---------------------------------------------------------------------------\u001b[0m",
      "\u001b[0;31mUnboundLocalError\u001b[0m                         Traceback (most recent call last)",
      "\u001b[0;32m<ipython-input-18-9c27c7f2b3ec>\u001b[0m in \u001b[0;36m<module>\u001b[0;34m()\u001b[0m\n\u001b[0;32m----> 1\u001b[0;31m \u001b[0maTest\u001b[0m\u001b[0;34m(\u001b[0m\u001b[0;34m)\u001b[0m\u001b[0;34m\u001b[0m\u001b[0m\n\u001b[0m",
      "\u001b[0;32m<ipython-input-17-62d133835235>\u001b[0m in \u001b[0;36maTest\u001b[0;34m()\u001b[0m\n\u001b[1;32m      2\u001b[0m \u001b[0;34m\u001b[0m\u001b[0m\n\u001b[1;32m      3\u001b[0m \u001b[0;32mdef\u001b[0m \u001b[0maTest\u001b[0m\u001b[0;34m(\u001b[0m\u001b[0;34m)\u001b[0m\u001b[0;34m:\u001b[0m\u001b[0;34m\u001b[0m\u001b[0m\n\u001b[0;32m----> 4\u001b[0;31m     \u001b[0ma\u001b[0m \u001b[0;34m=\u001b[0m \u001b[0ma\u001b[0m\u001b[0;34m+\u001b[0m\u001b[0;34m\"!!\"\u001b[0m\u001b[0;34m\u001b[0m\u001b[0m\n\u001b[0m\u001b[1;32m      5\u001b[0m     \u001b[0mprint\u001b[0m\u001b[0;34m(\u001b[0m\u001b[0ma\u001b[0m\u001b[0;34m)\u001b[0m\u001b[0;34m\u001b[0m\u001b[0m\n\u001b[1;32m      6\u001b[0m \u001b[0;34m\u001b[0m\u001b[0m\n",
      "\u001b[0;31mUnboundLocalError\u001b[0m: local variable 'a' referenced before assignment"
     ]
    }
   ],
   "source": [
    "aTest()"
   ]
  },
  {
   "cell_type": "code",
   "execution_count": 31,
   "metadata": {
    "collapsed": true
   },
   "outputs": [],
   "source": [
    "class GlobalTest:\n",
    "    a = \"전역값\"\n",
    "    \n",
    "    def gTest(self):\n",
    "        self.a = self.a+\"!!\"\n",
    "        print(self.a)\n",
    "        print(a)\n",
    "\n"
   ]
  },
  {
   "cell_type": "code",
   "execution_count": 32,
   "metadata": {
    "collapsed": true
   },
   "outputs": [],
   "source": [
    "g = GlobalTest()\n"
   ]
  },
  {
   "cell_type": "code",
   "execution_count": 33,
   "metadata": {
    "collapsed": false
   },
   "outputs": [
    {
     "name": "stdout",
     "output_type": "stream",
     "text": [
      "전역값!!\n",
      "전역값\n"
     ]
    }
   ],
   "source": [
    "g.gTest()"
   ]
  },
  {
   "cell_type": "code",
   "execution_count": 35,
   "metadata": {
    "collapsed": false
   },
   "outputs": [
    {
     "data": {
      "text/plain": [
       "{'GlobalTest': __main__.GlobalTest,\n",
       " 'In': ['',\n",
       "  'def argsfunc(*args):\\n    i=0\\n    for x in args:\\n        i+=1\\n    print(\"인수의 개수 : %d\" % i)\\n    print(args)',\n",
       "  'argsfunc(1,2,(3,4,5))',\n",
       "  'argsfunc(1,\"df\",[1,2,3],{\"a\":\"bb\"})',\n",
       "  'def dictsfunc(**dicts):\\n    i = 0\\n    for i in dicts.keys():\\n        i+=1\\n    print(\"인수의 개수 %d\" % i)',\n",
       "  'def dictsfunc(**dicts):\\n    i = 0\\n    for i in dicts.keys():\\n        i+=1\\n    print(\"인수의 개수 %d\" % i)\\n    print(dicts)',\n",
       "  'dictsfunc(a=1,b=2,c=4)',\n",
       "  'def dictsfunc(**dicts):\\n    i = 0\\n    for x in dicts.keys():\\n        i+=1\\n    print(\"인수의 개수 %d\" % i)\\n    print(dicts)',\n",
       "  'dictsfunc(a=1,b=2,c=4)',\n",
       "  'dictsfunc({\"a\":1})',\n",
       "  'dictsfunc(\"a\"=1)',\n",
       "  'dictsfunc(b=\"A\",c=1)',\n",
       "  'def recommandable(*args,a):\\n    print(a,args)',\n",
       "  'recommandable(1,2,3,a=4)',\n",
       "  'recommandable(1,2,3,4)',\n",
       "  'recommandable(1,2,3,a=4)',\n",
       "  'print()',\n",
       "  'a = \"전역값\"\\n\\ndef aTest():\\n    a = a+\"!!\"\\n    print(a)\\n\\n    ',\n",
       "  'aTest()',\n",
       "  'class GlobalTest:\\n    a = \"전역값\"\\n    \\n    def gTest(self):\\n        a = a+\"!!\"\\n        print(a)',\n",
       "  'g = GlobalTest()',\n",
       "  'g.gTest()',\n",
       "  'class GlobalTest:\\n    a = \"전역값\"\\n    \\n    def gTest(self):\\n        self.a = selfa+\"!!\"\\n        print(a)',\n",
       "  'g = GlobalTest()',\n",
       "  'g.gTest()',\n",
       "  'class GlobalTest:\\n    a = \"전역값\"\\n    \\n    def gTest(self):\\n        self.a = self.a+\"!!\"\\n        print(a)',\n",
       "  'g = GlobalTest()',\n",
       "  'g.gTest()',\n",
       "  'class GlobalTest:\\n    a = \"전역값\"\\n    \\n    def gTest(self):\\n        self.a = self.a+\"!!\"\\n        print(self.a)',\n",
       "  'g = GlobalTest()',\n",
       "  'g.gTest()',\n",
       "  'class GlobalTest:\\n    a = \"전역값\"\\n    \\n    def gTest(self):\\n        self.a = self.a+\"!!\"\\n        print(self.a)\\n        print(a)',\n",
       "  'g = GlobalTest()',\n",
       "  'g.gTest()',\n",
       "  'local()',\n",
       "  'locals()'],\n",
       " 'Out': {},\n",
       " '_': '',\n",
       " '__': '',\n",
       " '___': '',\n",
       " '__builtin__': <module 'builtins' (built-in)>,\n",
       " '__builtins__': <module 'builtins' (built-in)>,\n",
       " '__doc__': 'Automatically created module for IPython interactive environment',\n",
       " '__loader__': None,\n",
       " '__name__': '__main__',\n",
       " '__package__': None,\n",
       " '__spec__': None,\n",
       " '_dh': ['/Users/jaegyuhan/PythonEx_1'],\n",
       " '_i': 'local()',\n",
       " '_i1': 'def argsfunc(*args):\\n    i=0\\n    for x in args:\\n        i+=1\\n    print(\"인수의 개수 : %d\" % i)\\n    print(args)',\n",
       " '_i10': 'dictsfunc(\"a\"=1)',\n",
       " '_i11': 'dictsfunc(b=\"A\",c=1)',\n",
       " '_i12': 'def recommandable(*args,a):\\n    print(a,args)',\n",
       " '_i13': 'recommandable(1,2,3,a=4)',\n",
       " '_i14': 'recommandable(1,2,3,4)',\n",
       " '_i15': 'recommandable(1,2,3,a=4)',\n",
       " '_i16': 'print()',\n",
       " '_i17': 'a = \"전역값\"\\n\\ndef aTest():\\n    a = a+\"!!\"\\n    print(a)\\n\\n    ',\n",
       " '_i18': 'aTest()',\n",
       " '_i19': 'class GlobalTest:\\n    a = \"전역값\"\\n    \\n    def gTest(self):\\n        a = a+\"!!\"\\n        print(a)',\n",
       " '_i2': 'argsfunc(1,2,(3,4,5))',\n",
       " '_i20': 'g = GlobalTest()',\n",
       " '_i21': 'g.gTest()',\n",
       " '_i22': 'class GlobalTest:\\n    a = \"전역값\"\\n    \\n    def gTest(self):\\n        self.a = selfa+\"!!\"\\n        print(a)',\n",
       " '_i23': 'g = GlobalTest()',\n",
       " '_i24': 'g.gTest()',\n",
       " '_i25': 'class GlobalTest:\\n    a = \"전역값\"\\n    \\n    def gTest(self):\\n        self.a = self.a+\"!!\"\\n        print(a)',\n",
       " '_i26': 'g = GlobalTest()',\n",
       " '_i27': 'g.gTest()',\n",
       " '_i28': 'class GlobalTest:\\n    a = \"전역값\"\\n    \\n    def gTest(self):\\n        self.a = self.a+\"!!\"\\n        print(self.a)',\n",
       " '_i29': 'g = GlobalTest()',\n",
       " '_i3': 'argsfunc(1,\"df\",[1,2,3],{\"a\":\"bb\"})',\n",
       " '_i30': 'g.gTest()',\n",
       " '_i31': 'class GlobalTest:\\n    a = \"전역값\"\\n    \\n    def gTest(self):\\n        self.a = self.a+\"!!\"\\n        print(self.a)\\n        print(a)',\n",
       " '_i32': 'g = GlobalTest()',\n",
       " '_i33': 'g.gTest()',\n",
       " '_i34': 'local()',\n",
       " '_i35': 'locals()',\n",
       " '_i4': 'def dictsfunc(**dicts):\\n    i = 0\\n    for i in dicts.keys():\\n        i+=1\\n    print(\"인수의 개수 %d\" % i)',\n",
       " '_i5': 'def dictsfunc(**dicts):\\n    i = 0\\n    for i in dicts.keys():\\n        i+=1\\n    print(\"인수의 개수 %d\" % i)\\n    print(dicts)',\n",
       " '_i6': 'dictsfunc(a=1,b=2,c=4)',\n",
       " '_i7': 'def dictsfunc(**dicts):\\n    i = 0\\n    for x in dicts.keys():\\n        i+=1\\n    print(\"인수의 개수 %d\" % i)\\n    print(dicts)',\n",
       " '_i8': 'dictsfunc(a=1,b=2,c=4)',\n",
       " '_i9': 'dictsfunc({\"a\":1})',\n",
       " '_ih': ['',\n",
       "  'def argsfunc(*args):\\n    i=0\\n    for x in args:\\n        i+=1\\n    print(\"인수의 개수 : %d\" % i)\\n    print(args)',\n",
       "  'argsfunc(1,2,(3,4,5))',\n",
       "  'argsfunc(1,\"df\",[1,2,3],{\"a\":\"bb\"})',\n",
       "  'def dictsfunc(**dicts):\\n    i = 0\\n    for i in dicts.keys():\\n        i+=1\\n    print(\"인수의 개수 %d\" % i)',\n",
       "  'def dictsfunc(**dicts):\\n    i = 0\\n    for i in dicts.keys():\\n        i+=1\\n    print(\"인수의 개수 %d\" % i)\\n    print(dicts)',\n",
       "  'dictsfunc(a=1,b=2,c=4)',\n",
       "  'def dictsfunc(**dicts):\\n    i = 0\\n    for x in dicts.keys():\\n        i+=1\\n    print(\"인수의 개수 %d\" % i)\\n    print(dicts)',\n",
       "  'dictsfunc(a=1,b=2,c=4)',\n",
       "  'dictsfunc({\"a\":1})',\n",
       "  'dictsfunc(\"a\"=1)',\n",
       "  'dictsfunc(b=\"A\",c=1)',\n",
       "  'def recommandable(*args,a):\\n    print(a,args)',\n",
       "  'recommandable(1,2,3,a=4)',\n",
       "  'recommandable(1,2,3,4)',\n",
       "  'recommandable(1,2,3,a=4)',\n",
       "  'print()',\n",
       "  'a = \"전역값\"\\n\\ndef aTest():\\n    a = a+\"!!\"\\n    print(a)\\n\\n    ',\n",
       "  'aTest()',\n",
       "  'class GlobalTest:\\n    a = \"전역값\"\\n    \\n    def gTest(self):\\n        a = a+\"!!\"\\n        print(a)',\n",
       "  'g = GlobalTest()',\n",
       "  'g.gTest()',\n",
       "  'class GlobalTest:\\n    a = \"전역값\"\\n    \\n    def gTest(self):\\n        self.a = selfa+\"!!\"\\n        print(a)',\n",
       "  'g = GlobalTest()',\n",
       "  'g.gTest()',\n",
       "  'class GlobalTest:\\n    a = \"전역값\"\\n    \\n    def gTest(self):\\n        self.a = self.a+\"!!\"\\n        print(a)',\n",
       "  'g = GlobalTest()',\n",
       "  'g.gTest()',\n",
       "  'class GlobalTest:\\n    a = \"전역값\"\\n    \\n    def gTest(self):\\n        self.a = self.a+\"!!\"\\n        print(self.a)',\n",
       "  'g = GlobalTest()',\n",
       "  'g.gTest()',\n",
       "  'class GlobalTest:\\n    a = \"전역값\"\\n    \\n    def gTest(self):\\n        self.a = self.a+\"!!\"\\n        print(self.a)\\n        print(a)',\n",
       "  'g = GlobalTest()',\n",
       "  'g.gTest()',\n",
       "  'local()',\n",
       "  'locals()'],\n",
       " '_ii': 'g.gTest()',\n",
       " '_iii': 'g = GlobalTest()',\n",
       " '_oh': {},\n",
       " '_sh': <module 'IPython.core.shadowns' from '/Users/jaegyuhan/anaconda3/lib/python3.5/site-packages/IPython/core/shadowns.py'>,\n",
       " 'a': '전역값',\n",
       " 'aTest': <function __main__.aTest>,\n",
       " 'argsfunc': <function __main__.argsfunc>,\n",
       " 'dictsfunc': <function __main__.dictsfunc>,\n",
       " 'exit': <IPython.core.autocall.ZMQExitAutocall at 0x103f604e0>,\n",
       " 'g': <__main__.GlobalTest at 0x1040d5828>,\n",
       " 'get_ipython': <bound method InteractiveShell.get_ipython of <ipykernel.zmqshell.ZMQInteractiveShell object at 0x101c28f28>>,\n",
       " 'quit': <IPython.core.autocall.ZMQExitAutocall at 0x103f604e0>,\n",
       " 'recommandable': <function __main__.recommandable>}"
      ]
     },
     "execution_count": 35,
     "metadata": {},
     "output_type": "execute_result"
    }
   ],
   "source": [
    "locals()"
   ]
  },
  {
   "cell_type": "code",
   "execution_count": null,
   "metadata": {
    "collapsed": true
   },
   "outputs": [],
   "source": []
  }
 ],
 "metadata": {
  "anaconda-cloud": {},
  "kernelspec": {
   "display_name": "Python [Root]",
   "language": "python",
   "name": "Python [Root]"
  },
  "language_info": {
   "codemirror_mode": {
    "name": "ipython",
    "version": 3
   },
   "file_extension": ".py",
   "mimetype": "text/x-python",
   "name": "python",
   "nbconvert_exporter": "python",
   "pygments_lexer": "ipython3",
   "version": "3.5.2"
  }
 },
 "nbformat": 4,
 "nbformat_minor": 0
}

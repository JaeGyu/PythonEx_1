{
 "cells": [
  {
   "cell_type": "code",
   "execution_count": 34,
   "metadata": {
    "collapsed": true
   },
   "outputs": [],
   "source": [
    "import tensorflow as tf\n",
    "\n",
    "#x_train = [1,2,3]\n",
    "#y_train = [1,2,3]\n",
    "\n",
    "#위의 x와 y를 placeholder로 줄 수 있다. \n",
    "\n",
    "x_train = tf.placeholder(tf.float32, shape=[None])\n",
    "y_train = tf.placeholder(tf.float32, shape=[None])\n",
    "\n",
    " # H(x) = wx + b"
   ]
  },
  {
   "cell_type": "code",
   "execution_count": 35,
   "metadata": {
    "collapsed": true
   },
   "outputs": [],
   "source": [
    "#여기서 Variable는 텐서플로가 사용하는 것이다.  즉 텐서플로를 실행시키면 텐서플로가 자동으로 변경시키는 값이다. \n",
    "#텐서플로가 학습을 하면서 자동을 변경을 시키는 값을 나타낸다. \n",
    "# w와 b는 최초에 랜덤 값을 부여받아 시작한다. \n",
    "# 그리고 shape를 결정해준다. [1]은 1차원 array를 뜻한다. 랭크가 1이다. \n",
    "W = tf.Variable(tf.random_normal([1]), name = 'weight')\n",
    "b = tf.Variable(tf.random_normal([1]), name = 'bias')"
   ]
  },
  {
   "cell_type": "code",
   "execution_count": 36,
   "metadata": {
    "collapsed": true
   },
   "outputs": [],
   "source": [
    "hypothesis = x_train * W + b\n",
    "\n",
    "\n",
    "#reduce_mean은 어떤 텐서 예를 들면 t = [1,2,3,4,5] 가  주어졌을때 평균을 내주는 것이다. \n",
    "cost = tf.reduce_mean(tf.square(hypothesis - y_train))"
   ]
  },
  {
   "cell_type": "code",
   "execution_count": 37,
   "metadata": {
    "collapsed": true
   },
   "outputs": [],
   "source": [
    "#cost 펑션까지 주어졌는데 이젠 이걸 최소화하는 것이 필요하다.\n",
    "#텐서플로에서는 크래디언트디센트를 사용할 수 있다. \n",
    "\n",
    "optimizer = tf.train.GradientDescentOptimizer(learning_rate=0.01)\n",
    "\n",
    "#텐서플로에서 train이라는 크래프의 노드를 만들었다. \n",
    "train = optimizer.minimize(cost)"
   ]
  },
  {
   "cell_type": "code",
   "execution_count": 38,
   "metadata": {
    "collapsed": true
   },
   "outputs": [],
   "source": [
    "#위에까지는 텐서플로의 그래프를 구현해 준것이다.\n",
    "#이걸 실행 할려면 세션(아마 서버같은 개념일 듯)을 개설 해주고 그 세션에서 돌려야 한다. \n",
    "#그래프는 세션 안에서 실행이 된다. \n",
    "sess = tf.Session()\n",
    "\n",
    "#global_variables를 사용했는데 W,b  반드시 초기화를 해줘야 한다. \n",
    "sess.run(tf.global_variables_initializer())"
   ]
  },
  {
   "cell_type": "code",
   "execution_count": 40,
   "metadata": {
    "collapsed": false
   },
   "outputs": [
    {
     "name": "stdout",
     "output_type": "stream",
     "text": [
      "0 6.06674e-08 [ 0.99984056] [ 1.10057533]\n",
      "20 5.29662e-08 [ 0.99985105] [ 1.10053766]\n",
      "40 4.63249e-08 [ 0.99986076] [ 1.10050261]\n",
      "60 4.04493e-08 [ 0.99986994] [ 1.10046959]\n",
      "80 3.5314e-08 [ 0.99987835] [ 1.10043883]\n",
      "100 3.08393e-08 [ 0.99988633] [ 1.10041022]\n",
      "120 2.6999e-08 [ 0.99989367] [ 1.10038364]\n",
      "140 2.35891e-08 [ 0.99990064] [ 1.10035861]\n",
      "160 2.05348e-08 [ 0.9999072] [ 1.10033476]\n",
      "180 1.79778e-08 [ 0.99991322] [ 1.10031331]\n",
      "200 1.56669e-08 [ 0.99991894] [ 1.10029256]\n",
      "220 1.37171e-08 [ 0.99992418] [ 1.10027349]\n",
      "240 1.20021e-08 [ 0.99992919] [ 1.10025585]\n",
      "260 1.04824e-08 [ 0.99993378] [ 1.10023916]\n",
      "280 9.1542e-09 [ 0.99993819] [ 1.1002233]\n",
      "300 8.01356e-09 [ 0.99994206] [ 1.100209]\n",
      "320 6.95715e-09 [ 0.99994594] [ 1.10019481]\n",
      "340 6.12368e-09 [ 0.9999494] [ 1.10018289]\n",
      "360 5.36908e-09 [ 0.99995267] [ 1.10017097]\n",
      "380 4.64298e-09 [ 0.99995589] [ 1.10015905]\n",
      "400 4.09101e-09 [ 0.99995857] [ 1.10014939]\n",
      "420 3.57995e-09 [ 0.9999612] [ 1.10013986]\n",
      "440 3.11607e-09 [ 0.99996382] [ 1.10013032]\n",
      "460 2.72391e-09 [ 0.99996626] [ 1.10012186]\n",
      "480 2.42126e-09 [ 0.99996829] [ 1.1001147]\n",
      "500 2.12876e-09 [ 0.9999702] [ 1.10010755]\n",
      "520 1.85197e-09 [ 0.99997222] [ 1.1001004]\n",
      "540 1.59049e-09 [ 0.99997407] [ 1.10009325]\n",
      "560 1.37912e-09 [ 0.99997592] [ 1.10008681]\n",
      "580 1.23291e-09 [ 0.99997723] [ 1.10008204]\n",
      "600 1.09524e-09 [ 0.99997854] [ 1.10007727]\n",
      "620 9.60381e-10 [ 0.99997979] [ 1.1000725]\n",
      "640 8.43374e-10 [ 0.99998111] [ 1.10006773]\n",
      "660 7.32598e-10 [ 0.99998242] [ 1.10006297]\n",
      "680 6.20651e-10 [ 0.99998373] [ 1.1000582]\n",
      "700 5.35647e-10 [ 0.99998498] [ 1.10005391]\n",
      "720 4.72585e-10 [ 0.99998599] [ 1.10005069]\n",
      "740 4.30191e-10 [ 0.99998665] [ 1.1000483]\n",
      "760 3.85501e-10 [ 0.9999873] [ 1.10004592]\n",
      "780 3.49439e-10 [ 0.99998796] [ 1.10004354]\n",
      "800 3.13094e-10 [ 0.99998856] [ 1.10004115]\n",
      "820 2.75179e-10 [ 0.99998927] [ 1.10003877]\n",
      "840 2.41482e-10 [ 0.99998987] [ 1.10003638]\n",
      "860 2.1214e-10 [ 0.99999052] [ 1.100034]\n",
      "880 1.81853e-10 [ 0.99999118] [ 1.10003161]\n",
      "900 1.57411e-10 [ 0.99999189] [ 1.10002923]\n",
      "920 1.33059e-10 [ 0.99999249] [ 1.10002685]\n",
      "940 1.09048e-10 [ 0.99999315] [ 1.10002446]\n",
      "960 9.14042e-11 [ 0.9999938] [ 1.10002208]\n",
      "980 7.14977e-11 [ 0.99999446] [ 1.10001969]\n",
      "1000 6.18002e-11 [ 0.99999481] [ 1.10001838]\n",
      "1020 6.18002e-11 [ 0.99999481] [ 1.10001838]\n",
      "1040 6.18002e-11 [ 0.99999481] [ 1.10001838]\n",
      "1060 6.18002e-11 [ 0.99999481] [ 1.10001838]\n",
      "1080 6.18002e-11 [ 0.99999481] [ 1.10001838]\n",
      "1100 6.18002e-11 [ 0.99999481] [ 1.10001838]\n",
      "1120 6.18002e-11 [ 0.99999481] [ 1.10001838]\n",
      "1140 6.18002e-11 [ 0.99999481] [ 1.10001838]\n",
      "1160 6.18002e-11 [ 0.99999481] [ 1.10001838]\n",
      "1180 6.18002e-11 [ 0.99999481] [ 1.10001838]\n",
      "1200 6.18002e-11 [ 0.99999481] [ 1.10001838]\n",
      "1220 6.18002e-11 [ 0.99999481] [ 1.10001838]\n",
      "1240 6.18002e-11 [ 0.99999481] [ 1.10001838]\n",
      "1260 6.18002e-11 [ 0.99999481] [ 1.10001838]\n",
      "1280 6.18002e-11 [ 0.99999481] [ 1.10001838]\n",
      "1300 6.18002e-11 [ 0.99999481] [ 1.10001838]\n",
      "1320 6.18002e-11 [ 0.99999481] [ 1.10001838]\n",
      "1340 6.18002e-11 [ 0.99999481] [ 1.10001838]\n",
      "1360 6.18002e-11 [ 0.99999481] [ 1.10001838]\n",
      "1380 6.18002e-11 [ 0.99999481] [ 1.10001838]\n",
      "1400 6.18002e-11 [ 0.99999481] [ 1.10001838]\n",
      "1420 6.18002e-11 [ 0.99999481] [ 1.10001838]\n",
      "1440 6.18002e-11 [ 0.99999481] [ 1.10001838]\n",
      "1460 6.18002e-11 [ 0.99999481] [ 1.10001838]\n",
      "1480 6.18002e-11 [ 0.99999481] [ 1.10001838]\n",
      "1500 6.18002e-11 [ 0.99999481] [ 1.10001838]\n",
      "1520 6.18002e-11 [ 0.99999481] [ 1.10001838]\n",
      "1540 6.18002e-11 [ 0.99999481] [ 1.10001838]\n",
      "1560 6.18002e-11 [ 0.99999481] [ 1.10001838]\n",
      "1580 6.18002e-11 [ 0.99999481] [ 1.10001838]\n",
      "1600 6.18002e-11 [ 0.99999481] [ 1.10001838]\n",
      "1620 6.18002e-11 [ 0.99999481] [ 1.10001838]\n",
      "1640 6.18002e-11 [ 0.99999481] [ 1.10001838]\n",
      "1660 6.18002e-11 [ 0.99999481] [ 1.10001838]\n",
      "1680 6.18002e-11 [ 0.99999481] [ 1.10001838]\n",
      "1700 6.18002e-11 [ 0.99999481] [ 1.10001838]\n",
      "1720 6.18002e-11 [ 0.99999481] [ 1.10001838]\n",
      "1740 6.18002e-11 [ 0.99999481] [ 1.10001838]\n",
      "1760 6.18002e-11 [ 0.99999481] [ 1.10001838]\n",
      "1780 6.18002e-11 [ 0.99999481] [ 1.10001838]\n",
      "1800 6.18002e-11 [ 0.99999481] [ 1.10001838]\n",
      "1820 6.18002e-11 [ 0.99999481] [ 1.10001838]\n",
      "1840 6.18002e-11 [ 0.99999481] [ 1.10001838]\n",
      "1860 6.18002e-11 [ 0.99999481] [ 1.10001838]\n",
      "1880 6.18002e-11 [ 0.99999481] [ 1.10001838]\n",
      "1900 6.18002e-11 [ 0.99999481] [ 1.10001838]\n",
      "1920 6.18002e-11 [ 0.99999481] [ 1.10001838]\n",
      "1940 6.18002e-11 [ 0.99999481] [ 1.10001838]\n",
      "1960 6.18002e-11 [ 0.99999481] [ 1.10001838]\n",
      "1980 6.18002e-11 [ 0.99999481] [ 1.10001838]\n",
      "2000 6.18002e-11 [ 0.99999481] [ 1.10001838]\n"
     ]
    }
   ],
   "source": [
    "#아래에서 sess.run의 결과값들을 리턴 받아 변수들에게 입력하는데 왜 저렇게 해야 에러가 안나는지 모르겠음\n",
    "\n",
    "for step in range(2001):\n",
    "    cost_val, w_val, b_val, _ = sess.run([cost,W,b,train], feed_dict={x_train: [1, 2, 3, 4, 5], y_train: [2.1, 3.1, 4.1, 5.1, 6.1]})\n",
    "    if step % 20 == 0:\n",
    "        print(step, cost_val, w_val, b_val)\n",
    "    #    print(step, sess.run(cost), sess.run(W), sess.run(b))"
   ]
  },
  {
   "cell_type": "code",
   "execution_count": 41,
   "metadata": {
    "collapsed": false
   },
   "outputs": [
    {
     "name": "stdout",
     "output_type": "stream",
     "text": [
      "[ 6.09999275]\n"
     ]
    }
   ],
   "source": [
    "print(sess.run(hypothesis, feed_dict={x_train: [5]}))"
   ]
  },
  {
   "cell_type": "code",
   "execution_count": 42,
   "metadata": {
    "collapsed": false
   },
   "outputs": [
    {
     "name": "stdout",
     "output_type": "stream",
     "text": [
      "[  2.10001326   5.09999752  11.099967  ]\n"
     ]
    }
   ],
   "source": [
    "print(sess.run(hypothesis, feed_dict={x_train: [1, 4, 10]}))"
   ]
  },
  {
   "cell_type": "code",
   "execution_count": 43,
   "metadata": {
    "collapsed": true
   },
   "outputs": [],
   "source": [
    "sess.close()"
   ]
  },
  {
   "cell_type": "code",
   "execution_count": 45,
   "metadata": {
    "collapsed": false
   },
   "outputs": [
    {
     "ename": "RuntimeError",
     "evalue": "Attempted to use a closed Session.",
     "output_type": "error",
     "traceback": [
      "\u001b[0;31m---------------------------------------------------------------------------\u001b[0m",
      "\u001b[0;31mRuntimeError\u001b[0m                              Traceback (most recent call last)",
      "\u001b[0;32m<ipython-input-45-08988b28a316>\u001b[0m in \u001b[0;36m<module>\u001b[0;34m()\u001b[0m\n\u001b[0;32m----> 1\u001b[0;31m \u001b[0mprint\u001b[0m\u001b[0;34m(\u001b[0m\u001b[0msess\u001b[0m\u001b[0;34m.\u001b[0m\u001b[0mrun\u001b[0m\u001b[0;34m(\u001b[0m\u001b[0mhypothesis\u001b[0m\u001b[0;34m,\u001b[0m \u001b[0mfeed_dict\u001b[0m\u001b[0;34m=\u001b[0m\u001b[0;34m{\u001b[0m\u001b[0mx_train\u001b[0m\u001b[0;34m:\u001b[0m\u001b[0;34m[\u001b[0m\u001b[0;36m4\u001b[0m\u001b[0;34m]\u001b[0m\u001b[0;34m}\u001b[0m\u001b[0;34m)\u001b[0m\u001b[0;34m)\u001b[0m\u001b[0;34m\u001b[0m\u001b[0m\n\u001b[0m",
      "\u001b[0;32m/Users/jaegyuhan/anaconda3/lib/python3.5/site-packages/tensorflow/python/client/session.py\u001b[0m in \u001b[0;36mrun\u001b[0;34m(self, fetches, feed_dict, options, run_metadata)\u001b[0m\n\u001b[1;32m    787\u001b[0m     \u001b[0;32mtry\u001b[0m\u001b[0;34m:\u001b[0m\u001b[0;34m\u001b[0m\u001b[0m\n\u001b[1;32m    788\u001b[0m       result = self._run(None, fetches, feed_dict, options_ptr,\n\u001b[0;32m--> 789\u001b[0;31m                          run_metadata_ptr)\n\u001b[0m\u001b[1;32m    790\u001b[0m       \u001b[0;32mif\u001b[0m \u001b[0mrun_metadata\u001b[0m\u001b[0;34m:\u001b[0m\u001b[0;34m\u001b[0m\u001b[0m\n\u001b[1;32m    791\u001b[0m         \u001b[0mproto_data\u001b[0m \u001b[0;34m=\u001b[0m \u001b[0mtf_session\u001b[0m\u001b[0;34m.\u001b[0m\u001b[0mTF_GetBuffer\u001b[0m\u001b[0;34m(\u001b[0m\u001b[0mrun_metadata_ptr\u001b[0m\u001b[0;34m)\u001b[0m\u001b[0;34m\u001b[0m\u001b[0m\n",
      "\u001b[0;32m/Users/jaegyuhan/anaconda3/lib/python3.5/site-packages/tensorflow/python/client/session.py\u001b[0m in \u001b[0;36m_run\u001b[0;34m(self, handle, fetches, feed_dict, options, run_metadata)\u001b[0m\n\u001b[1;32m    923\u001b[0m     \u001b[0;31m# Check session.\u001b[0m\u001b[0;34m\u001b[0m\u001b[0;34m\u001b[0m\u001b[0m\n\u001b[1;32m    924\u001b[0m     \u001b[0;32mif\u001b[0m \u001b[0mself\u001b[0m\u001b[0;34m.\u001b[0m\u001b[0m_closed\u001b[0m\u001b[0;34m:\u001b[0m\u001b[0;34m\u001b[0m\u001b[0m\n\u001b[0;32m--> 925\u001b[0;31m       \u001b[0;32mraise\u001b[0m \u001b[0mRuntimeError\u001b[0m\u001b[0;34m(\u001b[0m\u001b[0;34m'Attempted to use a closed Session.'\u001b[0m\u001b[0;34m)\u001b[0m\u001b[0;34m\u001b[0m\u001b[0m\n\u001b[0m\u001b[1;32m    926\u001b[0m     \u001b[0;32mif\u001b[0m \u001b[0mself\u001b[0m\u001b[0;34m.\u001b[0m\u001b[0mgraph\u001b[0m\u001b[0;34m.\u001b[0m\u001b[0mversion\u001b[0m \u001b[0;34m==\u001b[0m \u001b[0;36m0\u001b[0m\u001b[0;34m:\u001b[0m\u001b[0;34m\u001b[0m\u001b[0m\n\u001b[1;32m    927\u001b[0m       raise RuntimeError('The Session graph is empty.  Add operations to the '\n",
      "\u001b[0;31mRuntimeError\u001b[0m: Attempted to use a closed Session."
     ]
    }
   ],
   "source": [
    "print(sess.run(hypothesis, feed_dict={x_train: [4]}))"
   ]
  },
  {
   "cell_type": "code",
   "execution_count": null,
   "metadata": {
    "collapsed": true
   },
   "outputs": [],
   "source": []
  }
 ],
 "metadata": {
  "anaconda-cloud": {},
  "kernelspec": {
   "display_name": "Python [Root]",
   "language": "python",
   "name": "Python [Root]"
  },
  "language_info": {
   "codemirror_mode": {
    "name": "ipython",
    "version": 3
   },
   "file_extension": ".py",
   "mimetype": "text/x-python",
   "name": "python",
   "nbconvert_exporter": "python",
   "pygments_lexer": "ipython3",
   "version": "3.5.2"
  }
 },
 "nbformat": 4,
 "nbformat_minor": 0
}

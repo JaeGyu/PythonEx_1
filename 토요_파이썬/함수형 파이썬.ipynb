{
 "cells": [
  {
   "cell_type": "code",
   "execution_count": 5,
   "metadata": {
    "collapsed": false
   },
   "outputs": [
    {
     "name": "stdout",
     "output_type": "stream",
     "text": [
      "15\n",
      "15\n",
      "15\n"
     ]
    }
   ],
   "source": [
    "# 순수함수\n",
    "# 아래의 add함수는 순수함수 이다.\n",
    "\n",
    "def add(a,b):\n",
    "    return a+b\n",
    "\n",
    "# add함수가 순수 함수인 이유는 항상 동일한 인자를 주면 동일한 값을 리턴하기 때문이다. \n",
    "print(add(10,5))\n",
    "print(add(10,5))\n",
    "print(add(10,5))"
   ]
  },
  {
   "cell_type": "code",
   "execution_count": 8,
   "metadata": {
    "collapsed": false
   },
   "outputs": [
    {
     "name": "stdout",
     "output_type": "stream",
     "text": [
      "22\n",
      "23\n",
      "24\n",
      "32\n",
      "33\n",
      "34\n"
     ]
    }
   ],
   "source": [
    "#순수 함수가 아닌예를 보자!\n",
    "\n",
    "c = 10\n",
    "\n",
    "def add2(a, b): \n",
    "    return a + b + c\n",
    "\n",
    "#c가 앞으로 변화가 있을 수 있다고 가정을 한다면 add2는 순수함수가 아니다. \n",
    "#그런데 만약 c가 상수로써 존재 한다면 add2역시 순수함수이다.\n",
    "\n",
    "print(add2(10,2))\n",
    "print(add2(10,3))\n",
    "print(add2(10,4))\n",
    "\n",
    "c = 20\n",
    "\n",
    "print(add2(10,2)) #c로 인해서 같은 인자를 넘겼을때 리턴값이 변경되게 된다. \n",
    "print(add2(10,3)) #이렇게 결과가 달라지는 함수는 순수 함수가 아니다. \n",
    "print(add2(10,4))"
   ]
  },
  {
   "cell_type": "code",
   "execution_count": 14,
   "metadata": {
    "collapsed": false
   },
   "outputs": [
    {
     "name": "stdout",
     "output_type": "stream",
     "text": [
      "c :  20\n",
      "60\n",
      "60\n",
      "60\n",
      "c :  50\n"
     ]
    }
   ],
   "source": [
    "c = 20\n",
    "\n",
    "#아래의 함수는 순수 함수가 아니다 리턴값으로 소통하는 것 외에 어떠한 외부의 상태에 영향을 미치는 부분이 존재를 한다. \n",
    "#여기서는 c의 상태를 변경을 한다. \n",
    "def add3(a,b):\n",
    "    global c #전역 변수를 변경하기위한 선언\n",
    "    c = b\n",
    "    return a+b\n",
    "\n",
    "\"\"\"\n",
    "add3의 동일한 인수에 대한 결과는 모두 동일하지만 \n",
    "함수 실행전의 c의 상태와 함수가 실행 되고 나서의 c의 상태는 달라지는 부수효과를 내포하고 있다.\n",
    "아래의 함수는 리턴값외에 다른방식으로 외부의 상태에 직접 관여를 하고 있다.\n",
    "이런함수를 부수효과가 있는 함수라고 한다. 즉 순수함수가 아니다.\n",
    "\"\"\"\n",
    "print(\"c : \",c)\n",
    "print(add3(10,50))\n",
    "print(add3(10,50))\n",
    "print(add3(10,50))\n",
    "print(\"c : \",c)"
   ]
  },
  {
   "cell_type": "code",
   "execution_count": 15,
   "metadata": {
    "collapsed": false
   },
   "outputs": [
    {
     "name": "stdout",
     "output_type": "stream",
     "text": [
      "10\n",
      "30\n"
     ]
    }
   ],
   "source": [
    "class Obj():\n",
    "    def __init__(self):\n",
    "        self.val = 10\n",
    "\n",
    "obj = Obj()\n",
    "\n",
    "\"\"\"\n",
    "아래는 순수함수도 아니고 리턴값도 없다. \n",
    "단지 넘어온 객체의 val을 변경 한다.\n",
    "즉 외부의 상태를 변경하는 부수효과를 가지고 있다. \n",
    "\"\"\"\n",
    "def add4(obj, b):\n",
    "    obj.val += b\n",
    "\n",
    "print(obj.val)\n",
    "add4(obj, 20)\n",
    "print(obj.val)"
   ]
  },
  {
   "cell_type": "code",
   "execution_count": 18,
   "metadata": {
    "collapsed": false
   },
   "outputs": [
    {
     "name": "stdout",
     "output_type": "stream",
     "text": [
      "10\n",
      "10\n",
      "30\n"
     ]
    }
   ],
   "source": [
    "\"\"\"\n",
    "함수형 프로그래밍에서는 객체의 값을 변경하는 방법이 기존의 프로그래밍 방식과 다르다.\n",
    "원래있던 값은 그대로 두고 새로운객체를 생성해서 원하는 부분의 값이 변형되어져서 리턴하는 방식으로 \n",
    "값을 변경한다.\n",
    "\n",
    "아래는 순수 함수를 이용해서 기존의 객체의 상태가 변경된 새로운 객체를 생성해서 리턴하는 방식으로\n",
    "값을 변경하는 방법이다. \n",
    "\n",
    "아래의 add5는 인자로 받은 객체의 상태를 직접 변경하지 않고 있고 그외의 외부 상태도 변경하지 않고 있다. 즉 순순 함수 이다.\n",
    "\"\"\"\n",
    "\n",
    "class Obj:\n",
    "    def __init__(self):\n",
    "        self.val = 10\n",
    "\n",
    "obj1 = Obj()\n",
    "\n",
    "def add5(obj, b):\n",
    "    l_obj = Obj()\n",
    "    l_obj.val = obj.val + b  #obj를 참조만 할뿐 값을 직접 변경 하지는 않는다.\n",
    "    return l_obj\n",
    "\n",
    "print(obj1.val)\n",
    "obj2 = add5(obj, 20)\n",
    "print(obj1.val)  #값이 그대로 찍힌다.\n",
    "print(obj2.val)"
   ]
  },
  {
   "cell_type": "code",
   "execution_count": 2,
   "metadata": {
    "collapsed": true
   },
   "outputs": [],
   "source": [
    "# 일급함수"
   ]
  },
  {
   "cell_type": "code",
   "execution_count": null,
   "metadata": {
    "collapsed": true
   },
   "outputs": [],
   "source": [
    "# add_maker"
   ]
  }
 ],
 "metadata": {
  "kernelspec": {
   "display_name": "Python [Root]",
   "language": "python",
   "name": "Python [Root]"
  },
  "language_info": {
   "codemirror_mode": {
    "name": "ipython",
    "version": 3
   },
   "file_extension": ".py",
   "mimetype": "text/x-python",
   "name": "python",
   "nbconvert_exporter": "python",
   "pygments_lexer": "ipython3",
   "version": "3.5.2"
  }
 },
 "nbformat": 4,
 "nbformat_minor": 0
}

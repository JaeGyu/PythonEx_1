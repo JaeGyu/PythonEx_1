{
 "cells": [
  {
   "cell_type": "code",
   "execution_count": 25,
   "metadata": {
    "collapsed": true
   },
   "outputs": [],
   "source": [
    "import tensorflow as tf\n",
    "import numpy as np\n",
    "import matplotlib.pyplot as plt"
   ]
  },
  {
   "cell_type": "code",
   "execution_count": 26,
   "metadata": {
    "collapsed": true
   },
   "outputs": [],
   "source": [
    "%matplotlib inline"
   ]
  },
  {
   "cell_type": "code",
   "execution_count": 15,
   "metadata": {
    "collapsed": true
   },
   "outputs": [],
   "source": [
    "a = tf.add(2,3)"
   ]
  },
  {
   "cell_type": "code",
   "execution_count": 16,
   "metadata": {
    "collapsed": false
   },
   "outputs": [
    {
     "name": "stdout",
     "output_type": "stream",
     "text": [
      "Tensor(\"Add_5:0\", shape=(), dtype=int32)\n"
     ]
    }
   ],
   "source": [
    "print(a)"
   ]
  },
  {
   "cell_type": "code",
   "execution_count": 17,
   "metadata": {
    "collapsed": false
   },
   "outputs": [
    {
     "name": "stdout",
     "output_type": "stream",
     "text": [
      "5\n"
     ]
    }
   ],
   "source": [
    "with tf.Session() as sess:\n",
    "    print(sess.run(a))"
   ]
  },
  {
   "cell_type": "code",
   "execution_count": 18,
   "metadata": {
    "collapsed": true
   },
   "outputs": [],
   "source": [
    "a = 1\n",
    "b = 2\n"
   ]
  },
  {
   "cell_type": "code",
   "execution_count": 19,
   "metadata": {
    "collapsed": false
   },
   "outputs": [
    {
     "name": "stdout",
     "output_type": "stream",
     "text": [
      "[3, 2]\n"
     ]
    }
   ],
   "source": [
    "_add = tf.add(a,b)\n",
    "_mul = tf.multiply(a,b)\n",
    "with tf.Session() as sess:\n",
    "    print(sess.run([_add,_mul]))  #리스트 형식으로 실행 할 수 있음"
   ]
  },
  {
   "cell_type": "code",
   "execution_count": 20,
   "metadata": {
    "collapsed": true
   },
   "outputs": [],
   "source": [
    "x = 2\n",
    "y = 3\n",
    "op1 = tf.add(x,y)\n",
    "op2 = tf.multiply(x,y)\n",
    "op3 = tf.pow(op2,op1)"
   ]
  },
  {
   "cell_type": "code",
   "execution_count": 21,
   "metadata": {
    "collapsed": false
   },
   "outputs": [
    {
     "name": "stdout",
     "output_type": "stream",
     "text": [
      "7776\n"
     ]
    }
   ],
   "source": [
    "with tf.Session() as sess:\n",
    "    print(sess.run(op3))"
   ]
  },
  {
   "cell_type": "code",
   "execution_count": 39,
   "metadata": {
    "collapsed": true
   },
   "outputs": [],
   "source": [
    "num_points = 1000\n",
    "vectors_set = []"
   ]
  },
  {
   "cell_type": "code",
   "execution_count": 40,
   "metadata": {
    "collapsed": true
   },
   "outputs": [],
   "source": [
    "for i in range(num_points):\n",
    "    x1 = np.random.normal(.0, 1.0)\n",
    "#     y1 = x1 * 0.1 + 0.3 + np.random.normal(0., 0.03)\n",
    "    y1 = np.sin(x1) + np.random.normal(0., 0.1)\n",
    "    vectors_set.append([x1,y1])"
   ]
  },
  {
   "cell_type": "code",
   "execution_count": 41,
   "metadata": {
    "collapsed": true
   },
   "outputs": [],
   "source": [
    "x_data = [v[0] for v in vectors_set]\n",
    "y_data = [v[1] for v in vectors_set]"
   ]
  },
  {
   "cell_type": "code",
   "execution_count": 42,
   "metadata": {
    "collapsed": false
   },
   "outputs": [
    {
     "name": "stderr",
     "output_type": "stream",
     "text": [
      "/Users/jaegyuhan/anaconda3/lib/python3.5/site-packages/matplotlib/axes/_axes.py:519: UserWarning: No labelled objects found. Use label='...' kwarg on individual plots.\n",
      "  warnings.warn(\"No labelled objects found. \"\n"
     ]
    },
    {
     "data": {
      "image/png": "[encoded data removed]",
      "text/plain": [
       "<matplotlib.figure.Figure at 0x11e2599b0>"
      ]
     },
     "metadata": {},
     "output_type": "display_data"
    }
   ],
   "source": [
    "plt.plot(x_data, y_data, 'ro')\n",
    "plt.legend()\n",
    "plt.show()\n"
   ]
  },
  {
   "cell_type": "code",
   "execution_count": 29,
   "metadata": {
    "collapsed": true
   },
   "outputs": [],
   "source": [
    "W = tf.Variable(tf.random_uniform([1], -1.0, 1.0))\n",
    "b = tf.Variable(tf.zeros([1]))\n",
    "y = W*x_data + b"
   ]
  },
  {
   "cell_type": "code",
   "execution_count": 30,
   "metadata": {
    "collapsed": true
   },
   "outputs": [],
   "source": [
    "loss = tf.reduce_mean(tf.square(y - y_data))\n",
    "optimizer = tf.train.GradientDescentOptimizer(0.5)\n",
    "train = optimizer.minimize(loss)"
   ]
  },
  {
   "cell_type": "code",
   "execution_count": 32,
   "metadata": {
    "collapsed": false
   },
   "outputs": [
    {
     "name": "stdout",
     "output_type": "stream",
     "text": [
      "0 [ 0.15690017] [ 0.30027756] 0.00187275\n",
      "1 [ 0.13903181] [ 0.30037194] 0.00133453\n",
      "2 [ 0.12677942] [ 0.30044121] 0.00108146\n",
      "3 [ 0.11837791] [ 0.30048868] 0.000962468\n",
      "4 [ 0.11261695] [ 0.30052122] 0.000906519\n",
      "5 [ 0.10866664] [ 0.30054358] 0.000880213\n",
      "6 [ 0.10595789] [ 0.30055887] 0.000867844\n",
      "7 [ 0.10410049] [ 0.30056936] 0.000862029\n",
      "8 [ 0.10282686] [ 0.30057657] 0.000859294\n",
      "9 [ 0.10195352] [ 0.30058151] 0.000858008\n",
      "10 [ 0.10135467] [ 0.30058488] 0.000857404\n",
      "11 [ 0.10094404] [ 0.30058721] 0.000857119\n",
      "12 [ 0.10066247] [ 0.30058879] 0.000856986\n",
      "13 [ 0.1004694] [ 0.30058989] 0.000856923\n",
      "14 [ 0.100337] [ 0.30059063] 0.000856893\n",
      "15 [ 0.10024621] [ 0.30059114] 0.00085688\n",
      "16 [ 0.10018396] [ 0.3005915] 0.000856873\n",
      "17 [ 0.10014128] [ 0.30059174] 0.00085687\n",
      "18 [ 0.10011201] [ 0.30059192] 0.000856868\n",
      "19 [ 0.10009194] [ 0.30059204] 0.000856868\n",
      "20 [ 0.10007818] [ 0.30059209] 0.000856868\n",
      "21 [ 0.10006874] [ 0.30059215] 0.000856867\n",
      "22 [ 0.10006227] [ 0.30059218] 0.000856867\n",
      "23 [ 0.10005783] [ 0.30059221] 0.000856867\n",
      "24 [ 0.10005479] [ 0.30059224] 0.000856867\n",
      "25 [ 0.10005271] [ 0.30059224] 0.000856867\n",
      "26 [ 0.10005128] [ 0.30059224] 0.000856867\n",
      "27 [ 0.10005029] [ 0.30059227] 0.000856867\n",
      "28 [ 0.10004962] [ 0.30059227] 0.000856867\n",
      "29 [ 0.10004916] [ 0.30059227] 0.000856867\n",
      "30 [ 0.10004885] [ 0.30059227] 0.000856867\n",
      "31 [ 0.10004863] [ 0.30059227] 0.000856867\n",
      "32 [ 0.10004848] [ 0.30059227] 0.000856867\n",
      "33 [ 0.10004838] [ 0.30059227] 0.000856867\n",
      "34 [ 0.10004831] [ 0.30059227] 0.000856867\n",
      "35 [ 0.10004826] [ 0.30059227] 0.000856867\n",
      "36 [ 0.10004823] [ 0.30059227] 0.000856867\n",
      "37 [ 0.10004821] [ 0.30059227] 0.000856867\n",
      "38 [ 0.10004819] [ 0.30059227] 0.000856867\n",
      "39 [ 0.10004818] [ 0.30059227] 0.000856867\n",
      "40 [ 0.10004817] [ 0.30059227] 0.000856867\n",
      "41 [ 0.10004816] [ 0.30059227] 0.000856867\n",
      "42 [ 0.10004816] [ 0.30059227] 0.000856867\n",
      "43 [ 0.10004816] [ 0.30059227] 0.000856867\n",
      "44 [ 0.10004816] [ 0.30059227] 0.000856867\n",
      "45 [ 0.10004816] [ 0.30059227] 0.000856867\n",
      "46 [ 0.10004816] [ 0.30059227] 0.000856867\n",
      "47 [ 0.10004816] [ 0.30059227] 0.000856867\n",
      "48 [ 0.10004816] [ 0.30059227] 0.000856867\n",
      "49 [ 0.10004816] [ 0.30059227] 0.000856867\n",
      "50 [ 0.10004816] [ 0.30059227] 0.000856867\n",
      "51 [ 0.10004816] [ 0.30059227] 0.000856867\n",
      "52 [ 0.10004816] [ 0.30059227] 0.000856867\n",
      "53 [ 0.10004816] [ 0.30059227] 0.000856867\n",
      "54 [ 0.10004816] [ 0.30059227] 0.000856867\n",
      "55 [ 0.10004816] [ 0.30059227] 0.000856867\n",
      "56 [ 0.10004816] [ 0.30059227] 0.000856867\n",
      "57 [ 0.10004816] [ 0.30059227] 0.000856867\n",
      "58 [ 0.10004816] [ 0.30059227] 0.000856867\n",
      "59 [ 0.10004816] [ 0.30059227] 0.000856867\n",
      "60 [ 0.10004816] [ 0.30059227] 0.000856867\n",
      "61 [ 0.10004816] [ 0.30059227] 0.000856867\n",
      "62 [ 0.10004816] [ 0.30059227] 0.000856867\n",
      "63 [ 0.10004816] [ 0.30059227] 0.000856867\n",
      "64 [ 0.10004816] [ 0.30059227] 0.000856867\n",
      "65 [ 0.10004816] [ 0.30059227] 0.000856867\n",
      "66 [ 0.10004816] [ 0.30059227] 0.000856867\n",
      "67 [ 0.10004816] [ 0.30059227] 0.000856867\n",
      "68 [ 0.10004816] [ 0.30059227] 0.000856867\n",
      "69 [ 0.10004816] [ 0.30059227] 0.000856867\n",
      "70 [ 0.10004816] [ 0.30059227] 0.000856867\n",
      "71 [ 0.10004816] [ 0.30059227] 0.000856867\n",
      "72 [ 0.10004816] [ 0.30059227] 0.000856867\n",
      "73 [ 0.10004816] [ 0.30059227] 0.000856867\n",
      "74 [ 0.10004816] [ 0.30059227] 0.000856867\n",
      "75 [ 0.10004816] [ 0.30059227] 0.000856867\n",
      "76 [ 0.10004816] [ 0.30059227] 0.000856867\n",
      "77 [ 0.10004816] [ 0.30059227] 0.000856867\n",
      "78 [ 0.10004816] [ 0.30059227] 0.000856867\n",
      "79 [ 0.10004816] [ 0.30059227] 0.000856867\n",
      "80 [ 0.10004816] [ 0.30059227] 0.000856867\n",
      "81 [ 0.10004816] [ 0.30059227] 0.000856867\n",
      "82 [ 0.10004816] [ 0.30059227] 0.000856867\n",
      "83 [ 0.10004816] [ 0.30059227] 0.000856867\n",
      "84 [ 0.10004816] [ 0.30059227] 0.000856867\n",
      "85 [ 0.10004816] [ 0.30059227] 0.000856867\n",
      "86 [ 0.10004816] [ 0.30059227] 0.000856867\n",
      "87 [ 0.10004816] [ 0.30059227] 0.000856867\n",
      "88 [ 0.10004816] [ 0.30059227] 0.000856867\n",
      "89 [ 0.10004816] [ 0.30059227] 0.000856867\n",
      "90 [ 0.10004816] [ 0.30059227] 0.000856867\n",
      "91 [ 0.10004816] [ 0.30059227] 0.000856867\n",
      "92 [ 0.10004816] [ 0.30059227] 0.000856867\n",
      "93 [ 0.10004816] [ 0.30059227] 0.000856867\n",
      "94 [ 0.10004816] [ 0.30059227] 0.000856867\n",
      "95 [ 0.10004816] [ 0.30059227] 0.000856867\n",
      "96 [ 0.10004816] [ 0.30059227] 0.000856867\n",
      "97 [ 0.10004816] [ 0.30059227] 0.000856867\n",
      "98 [ 0.10004816] [ 0.30059227] 0.000856867\n",
      "99 [ 0.10004816] [ 0.30059227] 0.000856867\n"
     ]
    }
   ],
   "source": [
    "with tf.Session() as sess:\n",
    "    sess.run(tf.global_variables_initializer())\n",
    "    for step in range(100):\n",
    "        sess.run(train)\n",
    "        print(step, sess.run(W), sess.run(b), sess.run(loss))"
   ]
  },
  {
   "cell_type": "code",
   "execution_count": null,
   "metadata": {
    "collapsed": true
   },
   "outputs": [],
   "source": []
  }
 ],
 "metadata": {
  "kernelspec": {
   "display_name": "Python [Root]",
   "language": "python",
   "name": "Python [Root]"
  },
  "language_info": {
   "codemirror_mode": {
    "name": "ipython",
    "version": 3
   },
   "file_extension": ".py",
   "mimetype": "text/x-python",
   "name": "python",
   "nbconvert_exporter": "python",
   "pygments_lexer": "ipython3",
   "version": "3.5.2"
  }
 },
 "nbformat": 4,
 "nbformat_minor": 0
}

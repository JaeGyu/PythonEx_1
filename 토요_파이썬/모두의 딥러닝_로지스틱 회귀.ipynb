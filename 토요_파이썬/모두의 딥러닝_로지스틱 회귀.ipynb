{
 "cells": [
  {
   "cell_type": "code",
   "execution_count": 5,
   "metadata": {
    "collapsed": true
   },
   "outputs": [],
   "source": [
    "import tensorflow as tf\n",
    "import numpy as np"
   ]
  },
  {
   "cell_type": "code",
   "execution_count": 6,
   "metadata": {
    "collapsed": false
   },
   "outputs": [
    {
     "name": "stdout",
     "output_type": "stream",
     "text": [
      "1.2.0\n"
     ]
    }
   ],
   "source": [
    "print(tf.__version__)"
   ]
  },
  {
   "cell_type": "code",
   "execution_count": 7,
   "metadata": {
    "collapsed": true
   },
   "outputs": [],
   "source": [
    "data = [[2, 0],[4, 0], [6, 0], [8, 1], [10, 1], [12, 1], [14, 1]]"
   ]
  },
  {
   "cell_type": "code",
   "execution_count": 8,
   "metadata": {
    "collapsed": true
   },
   "outputs": [],
   "source": [
    "x_data = [x_row[0] for x_row in data]"
   ]
  },
  {
   "cell_type": "code",
   "execution_count": 9,
   "metadata": {
    "collapsed": false
   },
   "outputs": [
    {
     "name": "stdout",
     "output_type": "stream",
     "text": [
      "[2, 4, 6, 8, 10, 12, 14]\n"
     ]
    }
   ],
   "source": [
    "print(x_data)"
   ]
  },
  {
   "cell_type": "code",
   "execution_count": 10,
   "metadata": {
    "collapsed": true
   },
   "outputs": [],
   "source": [
    "y_data = [y_row[1] for y_row in data]"
   ]
  },
  {
   "cell_type": "code",
   "execution_count": 11,
   "metadata": {
    "collapsed": false
   },
   "outputs": [
    {
     "name": "stdout",
     "output_type": "stream",
     "text": [
      "[0, 0, 0, 1, 1, 1, 1]\n"
     ]
    }
   ],
   "source": [
    "print(y_data)"
   ]
  },
  {
   "cell_type": "code",
   "execution_count": 20,
   "metadata": {
    "collapsed": true
   },
   "outputs": [],
   "source": [
    "a = tf.Variable(tf.random_normal([1], dtype=tf.float64, seed=0))\n",
    "b = tf.Variable(tf.random_normal([1], dtype=tf.float64, seed=0))"
   ]
  },
  {
   "cell_type": "code",
   "execution_count": 21,
   "metadata": {
    "collapsed": true
   },
   "outputs": [],
   "source": [
    "y = 1/ (1 + np.e**(a*x_data + b))  # 시그모이드`"
   ]
  },
  {
   "cell_type": "code",
   "execution_count": 22,
   "metadata": {
    "collapsed": true
   },
   "outputs": [],
   "source": [
    "loss = -tf.reduce_mean(np.array(y_data) * tf.log(y) + (1-np.array(y_data)) * tf.log(1-y))"
   ]
  },
  {
   "cell_type": "code",
   "execution_count": 23,
   "metadata": {
    "collapsed": true
   },
   "outputs": [],
   "source": [
    "learning_rate = 0.5\n",
    "gd = tf.train.GradientDescentOptimizer(learning_rate).minimize(loss)"
   ]
  },
  {
   "cell_type": "code",
   "execution_count": 25,
   "metadata": {
    "collapsed": false
   },
   "outputs": [
    {
     "name": "stdout",
     "output_type": "stream",
     "text": [
      "Epoch: 0, loss = 1.2676, 기울기 a = 0.1849,  y 절편 b = -0.4334\n",
      "Epoch: 6000, loss = 0.0152, 기울기 a = -2.9211,  y 절편 b = 20.2981\n",
      "Epoch: 12000, loss = 0.0081, 기울기 a = -3.5637,  y 절편 b = 24.8010\n",
      "Epoch: 18000, loss = 0.0055, 기울기 a = -3.9557,  y 절편 b = 27.5463\n",
      "Epoch: 24000, loss = 0.0041, 기울기 a = -4.2380,  y 절편 b = 29.5231\n",
      "Epoch: 30000, loss = 0.0033, 기울기 a = -4.4586,  y 절편 b = 31.0675\n",
      "Epoch: 36000, loss = 0.0028, 기울기 a = -4.6396,  y 절편 b = 32.3346\n",
      "Epoch: 42000, loss = 0.0024, 기울기 a = -4.7930,  y 절편 b = 33.4086\n",
      "Epoch: 48000, loss = 0.0021, 기울기 a = -4.9261,  y 절편 b = 34.3406\n",
      "Epoch: 54000, loss = 0.0019, 기울기 a = -5.0436,  y 절편 b = 35.1636\n",
      "Epoch: 60000, loss = 0.0017, 기울기 a = -5.1489,  y 절편 b = 35.9005\n"
     ]
    }
   ],
   "source": [
    "with tf.Session() as sess:\n",
    "    sess.run(tf.global_variables_initializer())\n",
    "    \n",
    "    for i in range(60001):\n",
    "        sess.run(gd)\n",
    "        if i % 6000 == 0:\n",
    "#             print(\"Epoch: {:.1f}, loss = {:0.4f}, 기울기 a={:0.4f}, y 절편={0.4f}\".format(i, sess.run(loss), sess.run(a), sess.run(b)))\n",
    "            print(\"Epoch: %.f, loss = %0.4f, 기울기 a = %0.4f,  y 절편 b = %0.4f\" % (i, sess.run(loss), sess.run(a),  sess.run(b)))"
   ]
  },
  {
   "cell_type": "code",
   "execution_count": null,
   "metadata": {
    "collapsed": true
   },
   "outputs": [],
   "source": []
  }
 ],
 "metadata": {
  "anaconda-cloud": {},
  "kernelspec": {
   "display_name": "Python [Root]",
   "language": "python",
   "name": "Python [Root]"
  },
  "language_info": {
   "codemirror_mode": {
    "name": "ipython",
    "version": 3
   },
   "file_extension": ".py",
   "mimetype": "text/x-python",
   "name": "python",
   "nbconvert_exporter": "python",
   "pygments_lexer": "ipython3",
   "version": "3.5.2"
  }
 },
 "nbformat": 4,
 "nbformat_minor": 0
}

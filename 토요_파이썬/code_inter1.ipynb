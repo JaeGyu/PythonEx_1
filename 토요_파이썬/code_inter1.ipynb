{
 "cells": [
  {
   "cell_type": "code",
   "execution_count": 3,
   "metadata": {
    "collapsed": false
   },
   "outputs": [
    {
     "name": "stdout",
     "output_type": "stream",
     "text": [
      "True\n",
      "False\n"
     ]
    }
   ],
   "source": [
    "# 1.1\n",
    "\n",
    "# 시간 복잡도 O(n)\n",
    "# 공간 복잡도 O(n)\n",
    "\n",
    "# 문자열에 포함된 문자열이 전부 유일한지 검사하는 알고리즘을 작성하라 \n",
    "# 다른 자료구조를 사용할수 없는 상황이라면 어떻게 하겠는가?\n",
    "\n",
    "\"\"\"\n",
    "ex)\n",
    "abcd -> True\n",
    "abad -> False\n",
    "\n",
    "질문을 먼저 하라!\n",
    "각각의 문자들을 일일히 비교 해야 하는가? 이러면 시간복잡도는 O(n^2)이 된다.\n",
    "다른 방법으로 생각해 봐야 한다.\n",
    "해시를 이용해 보면 어떨까? 해시는 O(1)이다. \n",
    "각 알파벳을 지나가면서 해시에 해당 위치를 True로 변경한다. 그럼 o(n)이다\n",
    "해시값을 알아내서 그위치의 값을 True로 변경 할려고 보니 이미 True이다. 그럼 이건 중복이란 소리이다.\n",
    "\n",
    "자! 아스키는 256개이다. \n",
    "그런데 우리가 가지고 있는 문자열의 length가 256을 넘는다면 그건 보나마나 중복된 알파벳이 있다는 것이다.\n",
    "그럼 이런거에 한해서는 위의 해시 로직을 안타도 된다. \n",
    "\"\"\"\n",
    "\n",
    "def isUniqChars(str):\n",
    "    if len(str) > 256:\n",
    "        return False\n",
    "    \n",
    "    hash = [False] * 256\n",
    "    \n",
    "    for ch in str:\n",
    "        if hash[ord(ch)] is True:\n",
    "            return False\n",
    "        else:\n",
    "            hash[ord(ch)] = True\n",
    "    return True\n",
    "\n",
    "print(isUniqChars('abc'))\n",
    "print(isUniqChars('aba'))\n",
    "        "
   ]
  },
  {
   "cell_type": "code",
   "execution_count": 9,
   "metadata": {
    "collapsed": false
   },
   "outputs": [
    {
     "name": "stdout",
     "output_type": "stream",
     "text": [
      "True\n",
      "False\n"
     ]
    }
   ],
   "source": [
    "\"\"\"\n",
    "아래는 set을 이용하는 방법이다. \n",
    "\"\"\"\n",
    "def isUniqCharsUsingSet(str):\n",
    "    if len(str) > 256:\n",
    "        return False\n",
    "    \n",
    "    s = set()\n",
    "    for ch in str:\n",
    "        s.add(ch)\n",
    "    \n",
    "    if len(str) != len(s):\n",
    "        return False\n",
    "    \n",
    "    return True\n",
    "\n",
    "print(isUniqCharsUsingSet('abc'))\n",
    "print(isUniqCharsUsingSet('aba'))"
   ]
  },
  {
   "cell_type": "markdown",
   "metadata": {},
   "source": [
    "<hr>"
   ]
  },
  {
   "cell_type": "code",
   "execution_count": 12,
   "metadata": {
    "collapsed": false
   },
   "outputs": [
    {
     "name": "stdout",
     "output_type": "stream",
     "text": [
      "cba\n"
     ]
    }
   ],
   "source": [
    "# 1.2\n",
    "\n",
    "\"\"\"\n",
    "문자열을 뒤집어라\n",
    "ex) \"abc\" -> \"cba\"\n",
    "\n",
    "아래처럼 파이썬을 사용하면 금방 끝나지만 \n",
    "다른 방법을 사용해서도 해본다. \n",
    "\"\"\"\n",
    "\n",
    "def reverse_string(str):\n",
    "    return str[::-1]\n",
    "\n",
    "print(reverse_string(\"abc\"))"
   ]
  },
  {
   "cell_type": "code",
   "execution_count": 14,
   "metadata": {
    "collapsed": false
   },
   "outputs": [
    {
     "name": "stdout",
     "output_type": "stream",
     "text": [
      "cba\n"
     ]
    }
   ],
   "source": [
    "\"\"\"\n",
    "스택을 이용할거다\n",
    "먼저 스택을 준비하고\n",
    "그 스택에 문자열의 각 엘리먼트들을 푸시한다.\n",
    "팝을 하면서 스택이 빌때까지 뺀다\n",
    "\"\"\"\n",
    "\n",
    "def reverse_string_by_stack(str):\n",
    "    stack = []\n",
    "    for e in str:\n",
    "        stack.append(e)\n",
    "    \n",
    "    result = \"\"\n",
    "    \n",
    "    while len(stack) > 0:\n",
    "        result += stack.pop()\n",
    "    \n",
    "    return result\n",
    "\n",
    "print(reverse_string_by_stack(\"abc\"))\n",
    "        "
   ]
  },
  {
   "cell_type": "code",
   "execution_count": 27,
   "metadata": {
    "collapsed": false
   },
   "outputs": [
    {
     "name": "stdout",
     "output_type": "stream",
     "text": [
      "Z\n",
      "\u0000\n",
      "255\n",
      "0xff\n",
      "\u0000\u0001\u0002\u0003\u0004\u0005\u0006\u0007\b\t\n",
      "\u000b",
      "\f",
      "\r",
      "\u000e\u000f\u0010\u0011\u0012\u0013\u0014\u0015\u0016\u0017\u0018\u0019\u001a\u001b\u001c",
      "\u001d",
      "\u001e",
      "\u001f !\"#$%&'()*+,-./0123456789:;<=>?@ABCDEFGHIJKLMNOPQRSTUVWXYZ[\\]^_`abcdefghijklmnopqrstuvwxyz{|}~",
      " ¡¢£¤¥¦§¨©ª«¬­®¯°±²³´µ¶·¸¹º»¼½¾¿ÀÁÂÃÄÅÆÇÈÉÊËÌÍÎÏÐÑÒÓÔÕÖ×ØÙÚÛÜÝÞßàáâãäåæçèéêëìíîïðñòóôõö÷øùúûüýþÿĀ"
     ]
    }
   ],
   "source": [
    "print(chr(90))\n",
    "print(chr(0))\n",
    "print(ord('ÿ'))\n",
    "print(hex(ord('ÿ')))\n",
    "\n",
    "for i in range(0,257):\n",
    "    print(chr(i), end=\"\")"
   ]
  },
  {
   "cell_type": "code",
   "execution_count": null,
   "metadata": {
    "collapsed": true
   },
   "outputs": [],
   "source": []
  },
  {
   "cell_type": "code",
   "execution_count": null,
   "metadata": {
    "collapsed": true
   },
   "outputs": [],
   "source": []
  },
  {
   "cell_type": "code",
   "execution_count": null,
   "metadata": {
    "collapsed": true
   },
   "outputs": [],
   "source": []
  },
  {
   "cell_type": "code",
   "execution_count": null,
   "metadata": {
    "collapsed": true
   },
   "outputs": [],
   "source": []
  },
  {
   "cell_type": "code",
   "execution_count": null,
   "metadata": {
    "collapsed": true
   },
   "outputs": [],
   "source": []
  },
  {
   "cell_type": "code",
   "execution_count": null,
   "metadata": {
    "collapsed": true
   },
   "outputs": [],
   "source": []
  }
 ],
 "metadata": {
  "kernelspec": {
   "display_name": "Python [Root]",
   "language": "python",
   "name": "Python [Root]"
  },
  "language_info": {
   "codemirror_mode": {
    "name": "ipython",
    "version": 3
   },
   "file_extension": ".py",
   "mimetype": "text/x-python",
   "name": "python",
   "nbconvert_exporter": "python",
   "pygments_lexer": "ipython3",
   "version": "3.5.2"
  }
 },
 "nbformat": 4,
 "nbformat_minor": 0
}

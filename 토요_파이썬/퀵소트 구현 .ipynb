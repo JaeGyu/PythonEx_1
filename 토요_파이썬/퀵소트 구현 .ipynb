{
 "cells": [
  {
   "cell_type": "markdown",
   "metadata": {},
   "source": [
    "#### 퀵정렬 "
   ]
  },
  {
   "cell_type": "code",
   "execution_count": 60,
   "metadata": {
    "collapsed": true
   },
   "outputs": [],
   "source": [
    "def sort(seq):\n",
    "    if len(seq) <= 1:\n",
    "        return seq\n",
    "    else:\n",
    "        pivot = seq[0]\n",
    "        left, right = [], []\n",
    "        for x in seq[1:]:\n",
    "            if x < pivot:\n",
    "                left.append(x)\n",
    "            else:\n",
    "                right.append(x)\n",
    "        return sort(left) + [pivot] + sort(right)\n",
    "            "
   ]
  },
  {
   "cell_type": "code",
   "execution_count": 61,
   "metadata": {
    "collapsed": false
   },
   "outputs": [
    {
     "data": {
      "text/plain": [
       "[1, 2, 3]"
      ]
     },
     "execution_count": 61,
     "metadata": {},
     "output_type": "execute_result"
    }
   ],
   "source": [
    "sort([3,2,1])"
   ]
  },
  {
   "cell_type": "markdown",
   "metadata": {},
   "source": [
    "#### 퀵정렬 inplace 방식"
   ]
  },
  {
   "cell_type": "code",
   "execution_count": 62,
   "metadata": {
    "collapsed": true
   },
   "outputs": [],
   "source": [
    "def patition(seq, low, high):\n",
    "    current = low\n",
    "    for i in range(low, high):\n",
    "        if seq[i] < seq[high]:\n",
    "            temp = seq[i]\n",
    "            seq[i] = seq[current]\n",
    "            seq[current] = temp\n",
    "            current += 1\n",
    "        \n",
    "    temp = seq[high]\n",
    "    seq[high] = seq[current]\n",
    "    seq[current] = temp\n",
    "    \n",
    "    return current"
   ]
  },
  {
   "cell_type": "code",
   "execution_count": 63,
   "metadata": {
    "collapsed": true
   },
   "outputs": [],
   "source": [
    "def sort_inplace(seq, low, high):\n",
    "    if low < high:\n",
    "        p = patition(seq, low, high)\n",
    "        sort_inplace(seq, low, p-1)\n",
    "        sort_inplace(seq, p+1, high)\n",
    "        return seq"
   ]
  },
  {
   "cell_type": "code",
   "execution_count": 64,
   "metadata": {
    "collapsed": true
   },
   "outputs": [],
   "source": [
    "seq = [10,3,1]"
   ]
  },
  {
   "cell_type": "code",
   "execution_count": 65,
   "metadata": {
    "collapsed": false
   },
   "outputs": [
    {
     "name": "stdout",
     "output_type": "stream",
     "text": [
      "[1, 3, 10]\n"
     ]
    }
   ],
   "source": [
    "print(sort_inplace(seq, 0, 2))"
   ]
  },
  {
   "cell_type": "code",
   "execution_count": 67,
   "metadata": {
    "collapsed": true
   },
   "outputs": [],
   "source": [
    "def sort_new(seq):\n",
    "    if len(seq) <= 1:\n",
    "        return seq\n",
    "    \n",
    "    pivot = seq[0]\n",
    "    left, right = [], []\n",
    "    for x in seq[1:]:\n",
    "        if x < pivot:\n",
    "            left.append(x)\n",
    "        else:\n",
    "            right.append(x)\n",
    "    \n",
    "    return sort(left) + [pivot] + sort(right)"
   ]
  },
  {
   "cell_type": "code",
   "execution_count": 68,
   "metadata": {
    "collapsed": false
   },
   "outputs": [
    {
     "data": {
      "text/plain": [
       "[1, 2, 3]"
      ]
     },
     "execution_count": 68,
     "metadata": {},
     "output_type": "execute_result"
    }
   ],
   "source": [
    "sort_new([3,2,1])"
   ]
  },
  {
   "cell_type": "code",
   "execution_count": null,
   "metadata": {
    "collapsed": true
   },
   "outputs": [],
   "source": []
  }
 ],
 "metadata": {
  "kernelspec": {
   "display_name": "Python [Root]",
   "language": "python",
   "name": "Python [Root]"
  },
  "language_info": {
   "codemirror_mode": {
    "name": "ipython",
    "version": 3
   },
   "file_extension": ".py",
   "mimetype": "text/x-python",
   "name": "python",
   "nbconvert_exporter": "python",
   "pygments_lexer": "ipython3",
   "version": "3.5.2"
  }
 },
 "nbformat": 4,
 "nbformat_minor": 0
}
